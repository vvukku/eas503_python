{
 "cells": [
  {
   "cell_type": "markdown",
   "metadata": {},
   "source": [
    "Before you turn this problem in, make sure everything runs as expected. First, **restart the kernel** (in the menubar, select Kernel$\\rightarrow$Restart) and then **run all cells** (in the menubar, select Cell$\\rightarrow$Run All).\n",
    "\n",
    "Make sure you fill in any place that says `YOUR CODE HERE` or \"YOUR ANSWER HERE\", as well as your name and collaborators below:"
   ]
  },
  {
   "cell_type": "code",
   "execution_count": null,
   "metadata": {},
   "outputs": [],
   "source": [
    "NAME = \"Vaishnavi Vukku\"\n",
    "COLLABORATORS = \"Professor Zia\""
   ]
  },
  {
   "cell_type": "markdown",
   "metadata": {},
   "source": [
    "---"
   ]
  },
  {
   "cell_type": "code",
   "execution_count": null,
   "metadata": {
    "deletable": false,
    "nbgrader": {
     "cell_type": "code",
     "checksum": "2d2d234592b9bbdb8948b5793e0f03dc",
     "grade": false,
     "grade_id": "cell-f76994e35beb9382",
     "locked": false,
     "schema_version": 3,
     "solution": true,
     "task": false
    }
   },
   "outputs": [],
   "source": [
    "# 2 points\n",
    "def theory_1():\n",
    "\n",
    "    # Which of the following is not a legal identifier or variable name?\n",
    "    # (a) -- spam\n",
    "    # (b) -- spAm\n",
    "    # (c) -- __spam\n",
    "    # (d) -- 2spam\n",
    "    # (e) -- spam4U\n",
    "\n",
    "    # YOUR CODE HERE\n",
    "    return 'd'"
   ]
  },
  {
   "cell_type": "code",
   "execution_count": null,
   "metadata": {
    "deletable": false,
    "editable": false,
    "nbgrader": {
     "cell_type": "code",
     "checksum": "3e248028d884001f071dd7d23f170cb5",
     "grade": true,
     "grade_id": "cell-95dee224a79dab40",
     "locked": true,
     "points": 2,
     "schema_version": 3,
     "solution": false,
     "task": false
    }
   },
   "outputs": [],
   "source": []
  },
  {
   "cell_type": "code",
   "execution_count": null,
   "metadata": {
    "deletable": false,
    "nbgrader": {
     "cell_type": "code",
     "checksum": "3ec5ae54935fdd6ccb9e6f1ef89bcef1",
     "grade": false,
     "grade_id": "cell-a98d9857e7ec0534",
     "locked": false,
     "schema_version": 3,
     "solution": true,
     "task": false
    }
   },
   "outputs": [],
   "source": [
    "# 2 points\n",
    "def theory_2():\n",
    "\n",
    "    # Which of the following is the most accurate model of assignment in Python?\n",
    "    # (a) -- sticky-note\n",
    "    # (b) -- braible-as-box\n",
    "    # (c) -- simultaneous\n",
    "    # (d) -- plastic-scale\n",
    "\n",
    "    # YOUR CODE HERE\n",
    "    return 'a'"
   ]
  },
  {
   "cell_type": "code",
   "execution_count": null,
   "metadata": {
    "deletable": false,
    "editable": false,
    "nbgrader": {
     "cell_type": "code",
     "checksum": "4485ffe11d9cbeecaff549a718344443",
     "grade": true,
     "grade_id": "cell-991b1e5b9137a85d",
     "locked": true,
     "points": 2,
     "schema_version": 3,
     "solution": false,
     "task": false
    }
   },
   "outputs": [],
   "source": []
  },
  {
   "cell_type": "code",
   "execution_count": null,
   "metadata": {
    "deletable": false,
    "nbgrader": {
     "cell_type": "code",
     "checksum": "30e7d156ce3eedb5eb79d98e7b6a86a6",
     "grade": false,
     "grade_id": "cell-cd48aea50331d0d9",
     "locked": false,
     "schema_version": 3,
     "solution": true,
     "task": false
    }
   },
   "outputs": [],
   "source": [
    "# 2 points\n",
    "def theory_3():\n",
    "\n",
    "    # In Python, getting user input is done with a special expression called\n",
    "    # (a) -- for\n",
    "    # (b) -- read\n",
    "    # (c) -- simultaneous assignment\n",
    "    # (d) -- input\n",
    "\n",
    "    # YOUR CODE HERE\n",
    "    return 'd'"
   ]
  },
  {
   "cell_type": "code",
   "execution_count": null,
   "metadata": {
    "deletable": false,
    "editable": false,
    "nbgrader": {
     "cell_type": "code",
     "checksum": "f5044bb0e68dd32ad26e34c4ceefe4d3",
     "grade": true,
     "grade_id": "cell-2b85292203ebf991",
     "locked": true,
     "points": 2,
     "schema_version": 3,
     "solution": false,
     "task": false
    }
   },
   "outputs": [],
   "source": []
  },
  {
   "cell_type": "code",
   "execution_count": null,
   "metadata": {
    "deletable": false,
    "nbgrader": {
     "cell_type": "code",
     "checksum": "fa2af6d3db352a5956b4b054058129a4",
     "grade": false,
     "grade_id": "cell-70dab2dd211b9a05",
     "locked": false,
     "schema_version": 3,
     "solution": true,
     "task": false
    }
   },
   "outputs": [],
   "source": [
    "# 2 points\n",
    "def theory_4():\n",
    "\n",
    "    # Which of the following is not a built-in Python data type?\n",
    "    # (a) -- int\n",
    "    # (b) -- float\n",
    "    # (c) -- rational\n",
    "    # (d) -- string\n",
    "\n",
    "    # YOUR CODE HERE\n",
    "    return 'c'"
   ]
  },
  {
   "cell_type": "code",
   "execution_count": null,
   "metadata": {
    "deletable": false,
    "editable": false,
    "nbgrader": {
     "cell_type": "code",
     "checksum": "4dc08cf65308be6051bddc30ec0b2967",
     "grade": true,
     "grade_id": "cell-9895f9dd2f51ba11",
     "locked": true,
     "points": 2,
     "schema_version": 3,
     "solution": false,
     "task": false
    }
   },
   "outputs": [],
   "source": []
  },
  {
   "cell_type": "code",
   "execution_count": null,
   "metadata": {
    "deletable": false,
    "nbgrader": {
     "cell_type": "code",
     "checksum": "a57358d99a6bf4d048fcf9129b9f6293",
     "grade": false,
     "grade_id": "cell-0045451d2e58387a",
     "locked": false,
     "schema_version": 3,
     "solution": true,
     "task": false
    }
   },
   "outputs": [],
   "source": [
    "# 2 points\n",
    "def theory_5():\n",
    "\n",
    "    # Which of the following is not a built-in operation?\n",
    "    # (a) -- +\n",
    "    # (b) -- %\n",
    "    # (c) -- abs()\n",
    "    # (d) -- sqrt()\n",
    "\n",
    "    # YOUR CODE HERE\n",
    "    return 'd'"
   ]
  },
  {
   "cell_type": "code",
   "execution_count": null,
   "metadata": {
    "deletable": false,
    "editable": false,
    "nbgrader": {
     "cell_type": "code",
     "checksum": "e65fd1dbcc76919c586efc30f6cb5ac3",
     "grade": true,
     "grade_id": "cell-9562d84c62ee10d7",
     "locked": true,
     "points": 2,
     "schema_version": 3,
     "solution": false,
     "task": false
    }
   },
   "outputs": [],
   "source": []
  },
  {
   "cell_type": "code",
   "execution_count": null,
   "metadata": {
    "deletable": false,
    "nbgrader": {
     "cell_type": "code",
     "checksum": "9a54fda2657b00ca3ee1908c3c7b07c3",
     "grade": false,
     "grade_id": "cell-f86ccacd061d7de4",
     "locked": false,
     "schema_version": 3,
     "solution": true,
     "task": false
    }
   },
   "outputs": [],
   "source": [
    "# 2 points\n",
    "def theory_6():\n",
    "\n",
    "    # The most appropriate data type for storing the value of pi is\n",
    "    # (a) -- int\n",
    "    # (b) -- float\n",
    "    # (c) -- irrational\n",
    "    # (d) -- string\n",
    "\n",
    "    # YOUR CODE HERE\n",
    "    return 'b'"
   ]
  },
  {
   "cell_type": "code",
   "execution_count": null,
   "metadata": {
    "deletable": false,
    "editable": false,
    "nbgrader": {
     "cell_type": "code",
     "checksum": "12f1c8e9a0fb9adaaa258bae9f167c1c",
     "grade": true,
     "grade_id": "cell-adf00552ad14993d",
     "locked": true,
     "points": 2,
     "schema_version": 3,
     "solution": false,
     "task": false
    }
   },
   "outputs": [],
   "source": []
  },
  {
   "cell_type": "code",
   "execution_count": null,
   "metadata": {
    "deletable": false,
    "nbgrader": {
     "cell_type": "code",
     "checksum": "88e3aee9631f5daa1f9e762e59aaab51",
     "grade": false,
     "grade_id": "cell-9f05f939c3171f6e",
     "locked": false,
     "schema_version": 3,
     "solution": true,
     "task": false
    }
   },
   "outputs": [],
   "source": [
    "# 2 points\n",
    "def theory_7():\n",
    "\n",
    "    # In a mixed-type expression involving ints and floats, Python will convert\n",
    "    # (a) -- float to ints\n",
    "    # (b) -- ints to strings\n",
    "    # (c) -- both floats and ints to strings\n",
    "    # (d) -- ints to floats\n",
    "\n",
    "    # YOUR CODE HERE\n",
    "    return 'd'"
   ]
  },
  {
   "cell_type": "code",
   "execution_count": null,
   "metadata": {
    "deletable": false,
    "editable": false,
    "nbgrader": {
     "cell_type": "code",
     "checksum": "20f9e86e5ead43443af78813f5f763f3",
     "grade": true,
     "grade_id": "cell-1926f157df3d1652",
     "locked": true,
     "points": 2,
     "schema_version": 3,
     "solution": false,
     "task": false
    }
   },
   "outputs": [],
   "source": []
  },
  {
   "cell_type": "code",
   "execution_count": null,
   "metadata": {
    "deletable": false,
    "nbgrader": {
     "cell_type": "code",
     "checksum": "14518047bdaae200fa1d76bfa94ab5b1",
     "grade": false,
     "grade_id": "cell-21ea754eb012676e",
     "locked": false,
     "schema_version": 3,
     "solution": true,
     "task": false
    }
   },
   "outputs": [],
   "source": [
    "# 2 points\n",
    "def theory_8():\n",
    "\n",
    "    # Which of the following is not a Python type-conversion function?\n",
    "    # (a) -- float\n",
    "    # (b) -- round\n",
    "    # (c) -- int\n",
    "    # (d) -- abs\n",
    "\n",
    "    # YOUR CODE HERE\n",
    "    return 'd'"
   ]
  },
  {
   "cell_type": "code",
   "execution_count": null,
   "metadata": {
    "deletable": false,
    "editable": false,
    "nbgrader": {
     "cell_type": "code",
     "checksum": "75b2cebf72f6fa436607e2f0fb96a5b8",
     "grade": true,
     "grade_id": "cell-cfe36dad7fad367f",
     "locked": true,
     "points": 2,
     "schema_version": 3,
     "solution": false,
     "task": false
    }
   },
   "outputs": [],
   "source": []
  }
 ],
 "metadata": {
  "kernelspec": {
   "display_name": "Python 3",
   "language": "python",
   "name": "python3"
  },
  "language_info": {
   "codemirror_mode": {
    "name": "ipython",
    "version": 3
   },
   "file_extension": ".py",
   "mimetype": "text/x-python",
   "name": "python",
   "nbconvert_exporter": "python",
   "pygments_lexer": "ipython3",
   "version": "3.6.9"
  }
 },
 "nbformat": 4,
 "nbformat_minor": 4
}
