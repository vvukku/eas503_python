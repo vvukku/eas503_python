{
 "cells": [
  {
   "cell_type": "markdown",
   "metadata": {},
   "source": [
    "Before you turn this problem in, make sure everything runs as expected. First, **restart the kernel** (in the menubar, select Kernel$\\rightarrow$Restart) and then **run all cells** (in the menubar, select Cell$\\rightarrow$Run All).\n",
    "\n",
    "Make sure you fill in any place that says `YOUR CODE HERE` or \"YOUR ANSWER HERE\", as well as your name and collaborators below:"
   ]
  },
  {
   "cell_type": "code",
   "execution_count": null,
   "metadata": {},
   "outputs": [],
   "source": [
    "NAME = \"Vaishnavi Vukku\"\n",
    "COLLABORATORS = \"Professor Zia\""
   ]
  },
  {
   "cell_type": "markdown",
   "metadata": {},
   "source": [
    "---"
   ]
  },
  {
   "cell_type": "code",
   "execution_count": 1,
   "metadata": {
    "deletable": false,
    "nbgrader": {
     "cell_type": "code",
     "checksum": "a50990e68c61a2b42db1473bfd698a9d",
     "grade": false,
     "grade_id": "cell-63c5a6a20b2527de",
     "locked": false,
     "schema_version": 3,
     "solution": true,
     "task": false
    }
   },
   "outputs": [],
   "source": [
    "# 4 points\n",
    "def practice_1(name):\n",
    "    # Complete this function to use the `name` input to print the following:\n",
    "    # Hello, <name>, nice to meet you!\n",
    "    # Example: name = Brian\n",
    "    # Print: Hello, Brian, nice to meet you!\n",
    "    \n",
    "    # YOUR CODE HERE\n",
    "    print(\"Hello, {}, nice to meet you!\".format(name))"
   ]
  },
  {
   "cell_type": "code",
   "execution_count": 2,
   "metadata": {
    "deletable": false,
    "editable": false,
    "nbgrader": {
     "cell_type": "code",
     "checksum": "9abb9b758ef31ddf5f741dc94d017431",
     "grade": true,
     "grade_id": "cell-309b995cf2723861",
     "locked": true,
     "points": 4,
     "schema_version": 3,
     "solution": false,
     "task": false
    }
   },
   "outputs": [],
   "source": [
    "from unittest.mock import patch\n",
    "with patch('__main__.print') as mock_print:\n",
    "    practice_1('Brian')\n",
    "mock_print.assert_called_once_with('Hello, Brian, nice to meet you!')\n",
    "\n",
    "with patch('__main__.print') as mock_print:\n",
    "    practice_1('John')\n",
    "mock_print.assert_called_once_with('Hello, John, nice to meet you!')\n",
    "\n",
    "with patch('__main__.print') as mock_print:\n",
    "    practice_1('Jane')\n",
    "mock_print.assert_called_once_with('Hello, Jane, nice to meet you!')"
   ]
  },
  {
   "cell_type": "code",
   "execution_count": null,
   "metadata": {
    "deletable": false,
    "nbgrader": {
     "cell_type": "code",
     "checksum": "9ad7b94ecf979ae15b56606ed39e17aa",
     "grade": false,
     "grade_id": "cell-d4cd235afa6ba9c9",
     "locked": false,
     "schema_version": 3,
     "solution": true,
     "task": false
    }
   },
   "outputs": [],
   "source": [
    "# 4 points\n",
    "def practice_2(x, y, z):\n",
    "    # Complete this function to use the inputs x, y, and z to print the following:\n",
    "    \"\"\"\n",
    "    The value of x is: <x>.\n",
    "    The value of y is: <y>.\n",
    "    The value of z is: <z>.\n",
    "    \"\"\"\n",
    "    \n",
    "    \n",
    "    # YOUR CODE HERE\n",
    "    print(\"The value of x is: {}.\\nThe value of y is: {}.\\nThe value of z is: {}.\".format(x,y,z))\n"
   ]
  },
  {
   "cell_type": "code",
   "execution_count": null,
   "metadata": {
    "deletable": false,
    "editable": false,
    "nbgrader": {
     "cell_type": "code",
     "checksum": "948cac8b8d1651f20573745e4d552629",
     "grade": true,
     "grade_id": "cell-eedfb2417e94f554",
     "locked": true,
     "points": 4,
     "schema_version": 3,
     "solution": false,
     "task": false
    }
   },
   "outputs": [],
   "source": [
    "from unittest.mock import patch\n",
    "with patch('__main__.print') as mock_print:\n",
    "    practice_2(1, 2, 3)\n",
    "mock_print.assert_called_once_with('The value of x is: 1.\\nThe value of y is: 2.\\nThe value of z is: 3.')\n",
    "\n",
    "with patch('__main__.print') as mock_print:\n",
    "    practice_2(40, 50, 60)\n",
    "mock_print.assert_called_once_with('The value of x is: 40.\\nThe value of y is: 50.\\nThe value of z is: 60.')\n"
   ]
  },
  {
   "cell_type": "code",
   "execution_count": null,
   "metadata": {
    "deletable": false,
    "nbgrader": {
     "cell_type": "code",
     "checksum": "ad8a5925acccc809db443056ba578bf9",
     "grade": false,
     "grade_id": "cell-3f0ef5aae6375abf",
     "locked": false,
     "schema_version": 3,
     "solution": true,
     "task": false
    }
   },
   "outputs": [],
   "source": [
    "# 4 points\n",
    "def practice_3(length, width):\n",
    "    # Complete this function to use the inputs length and width to \n",
    "    # calculate the area of a rectangle and pring:\n",
    "    # The area of a rectangle with length <length> and width <width> is <area>.\n",
    "    # Make sure to round the area to two decimal places. \n",
    "       \n",
    "    # YOUR CODE HERE\n",
    "    area = round(length * width,2)\n",
    "    print(\"The area of a rectangle with length {} and width {} is {}.\".format(length, width, area))"
   ]
  },
  {
   "cell_type": "code",
   "execution_count": null,
   "metadata": {
    "deletable": false,
    "editable": false,
    "nbgrader": {
     "cell_type": "code",
     "checksum": "917222e9ffce54aa3a2c704775c1b4e4",
     "grade": true,
     "grade_id": "cell-af0b79e6ea65b91b",
     "locked": true,
     "points": 4,
     "schema_version": 3,
     "solution": false,
     "task": false
    }
   },
   "outputs": [],
   "source": [
    "from unittest.mock import patch\n",
    "with patch('__main__.print') as mock_print:\n",
    "    practice_3(45.23, 89.34)\n",
    "mock_print.assert_called_once_with('The area of a rectangle with length 45.23 and width 89.34 is 4040.85.')\n",
    "\n",
    "with patch('__main__.print') as mock_print:\n",
    "    practice_3(40.90, 50.55)\n",
    "mock_print.assert_called_once_with('The area of a rectangle with length 40.9 and width 50.55 is 2067.49.')\n"
   ]
  },
  {
   "cell_type": "code",
   "execution_count": null,
   "metadata": {
    "deletable": false,
    "nbgrader": {
     "cell_type": "code",
     "checksum": "a2c017e0304ed53533bd8ddfab1e4415",
     "grade": false,
     "grade_id": "cell-9fefb59228936ecb",
     "locked": false,
     "schema_version": 3,
     "solution": true,
     "task": false
    }
   },
   "outputs": [],
   "source": [
    "# 4 points\n",
    "def practice_4(radius):\n",
    "    # Complete this function to return the surface area of a sphere given a radius. \n",
    "    # Use the input `radius` as the radius\n",
    "    # round the surface area to two decimales \n",
    "    # Use the PI from the math module\n",
    "    \n",
    "    import math\n",
    "    PI = math.pi\n",
    "    \n",
    "    # YOUR CODE HERE\n",
    "    area = round(4*PI*radius**2,2)\n",
    "    return area\n"
   ]
  },
  {
   "cell_type": "code",
   "execution_count": null,
   "metadata": {
    "deletable": false,
    "editable": false,
    "nbgrader": {
     "cell_type": "code",
     "checksum": "823dfa98bc35ba212287eb2a5c1adb2f",
     "grade": true,
     "grade_id": "cell-491d00e6fd859523",
     "locked": true,
     "points": 2,
     "schema_version": 3,
     "solution": false,
     "task": false
    }
   },
   "outputs": [],
   "source": [
    "# Test cell #1 for practice_4\n",
    "assert practice_4(15) == 2827.43\n",
    "assert practice_4(7.25) == 660.52"
   ]
  },
  {
   "cell_type": "code",
   "execution_count": null,
   "metadata": {
    "deletable": false,
    "editable": false,
    "nbgrader": {
     "cell_type": "code",
     "checksum": "509f3fa70ccb3037a8cd566688395e63",
     "grade": true,
     "grade_id": "cell-e7263d2ce679b3d9",
     "locked": true,
     "points": 2,
     "schema_version": 3,
     "solution": false,
     "task": false
    }
   },
   "outputs": [],
   "source": [
    "# Test cell for practice_4 (hidden)"
   ]
  },
  {
   "cell_type": "code",
   "execution_count": null,
   "metadata": {
    "deletable": false,
    "nbgrader": {
     "cell_type": "code",
     "checksum": "6b9be78d12e28c22680bad427d33c4cf",
     "grade": false,
     "grade_id": "cell-4bd7e48a470f11cb",
     "locked": false,
     "schema_version": 3,
     "solution": true,
     "task": false
    }
   },
   "outputs": [],
   "source": [
    "\n",
    "def practice_5(radius):\n",
    "    # Complete this function to return the volume of a sphere given a radius. \n",
    "    # Use the input `radius` as the radius\n",
    "    # round the surface area to two decimales \n",
    "    # Use the PI from the math module\n",
    "    \n",
    "    import math\n",
    "    PI = math.pi\n",
    "    \n",
    "    # YOUR CODE HERE\n",
    "    volume = round((4/3)*PI*radius**3,2)\n",
    "    return volume"
   ]
  },
  {
   "cell_type": "code",
   "execution_count": null,
   "metadata": {
    "deletable": false,
    "editable": false,
    "nbgrader": {
     "cell_type": "code",
     "checksum": "d0c31e18696902517e80fd2352be0019",
     "grade": true,
     "grade_id": "cell-eb0c9dab58f9c650",
     "locked": true,
     "points": 2,
     "schema_version": 3,
     "solution": false,
     "task": false
    }
   },
   "outputs": [],
   "source": [
    "# Test cell #1 for practice_5\n",
    "assert practice_5(15) == 14137.17\n",
    "assert practice_5(7.5) == 1767.15"
   ]
  },
  {
   "cell_type": "code",
   "execution_count": null,
   "metadata": {
    "deletable": false,
    "editable": false,
    "nbgrader": {
     "cell_type": "code",
     "checksum": "955e73007f1d0c5da82ab0183b3aa4ec",
     "grade": true,
     "grade_id": "cell-230780b7e56d019f",
     "locked": true,
     "points": 2,
     "schema_version": 3,
     "solution": false,
     "task": false
    }
   },
   "outputs": [],
   "source": [
    "# Test cell for practice_5 (Hidden)"
   ]
  },
  {
   "cell_type": "code",
   "execution_count": null,
   "metadata": {
    "deletable": false,
    "nbgrader": {
     "cell_type": "code",
     "checksum": "abb7d3f95df00e75eb01205937f0113e",
     "grade": false,
     "grade_id": "cell-d72435be8ccbe507",
     "locked": false,
     "schema_version": 3,
     "solution": true,
     "task": false
    }
   },
   "outputs": [],
   "source": [
    "def practice_6(weight, height):\n",
    "    # The body mass index (BMI) is calculated as a peron's weight (in pounds) times 720, divided by the square\n",
    "    # of the person's height (in inches). A BMI in the range 19-25, inclusive, is considered healthy. \n",
    "    # Complete this function to calculate and return a person's BMI \n",
    "    # Round the BMI to two decimals places\n",
    "    \n",
    "    # YOUR CODE HERE\n",
    "    BMI = round((720*weight)/(height**2),2)\n",
    "    return BMI\n",
    "    "
   ]
  },
  {
   "cell_type": "code",
   "execution_count": null,
   "metadata": {
    "deletable": false,
    "editable": false,
    "nbgrader": {
     "cell_type": "code",
     "checksum": "68b6a797c7a30d5903fe786f81ab4f7b",
     "grade": true,
     "grade_id": "cell-0a0e41eb9ea9b9d0",
     "locked": true,
     "points": 2,
     "schema_version": 3,
     "solution": false,
     "task": false
    }
   },
   "outputs": [],
   "source": [
    "# Test cell  practice_6\n",
    "assert practice_6(150, 65) == 25.56"
   ]
  },
  {
   "cell_type": "code",
   "execution_count": null,
   "metadata": {
    "deletable": false,
    "editable": false,
    "nbgrader": {
     "cell_type": "code",
     "checksum": "f3621a057482c97dde0bf2a7fd2e995e",
     "grade": true,
     "grade_id": "cell-f3b43da0aab8e5ce",
     "locked": true,
     "points": 2,
     "schema_version": 3,
     "solution": false,
     "task": false
    }
   },
   "outputs": [],
   "source": [
    "# Test cell  for practice_6 (hidden)"
   ]
  },
  {
   "cell_type": "code",
   "execution_count": null,
   "metadata": {
    "deletable": false,
    "nbgrader": {
     "cell_type": "code",
     "checksum": "8fcfe291e1d362f4007dd8cd9fe8a910",
     "grade": false,
     "grade_id": "cell-1b4e4ef71c231d53",
     "locked": false,
     "schema_version": 3,
     "solution": true,
     "task": false
    }
   },
   "outputs": [],
   "source": [
    "def practice_7(no_one_liter_bottles, no_more_than_one_liter_bottles):\n",
    "    # When you buy soda bottles, you deposit a small amount to encourage recycling. \n",
    "    # For one liter bottle the depost is $0.10.\n",
    "    # For a bottle larger than one liter, the depost is $0.25.\n",
    "    # Complete this function to print a refund message like follows:\n",
    "    # The refund is $<amount>.\n",
    "    # Round the refund to two decimal places. \n",
    "    \n",
    "    # YOUR CODE HERE\n",
    "    refund = round(no_one_liter_bottles*0.10+no_more_than_one_liter_bottles*0.25,2)\n",
    "    print('The refund amount is ${}.'.format(refund))\n",
    "    "
   ]
  },
  {
   "cell_type": "code",
   "execution_count": null,
   "metadata": {
    "deletable": false,
    "editable": false,
    "nbgrader": {
     "cell_type": "code",
     "checksum": "559fe7067ab3e947d1a9388d050530cf",
     "grade": true,
     "grade_id": "cell-ee31a45ce013f115",
     "locked": true,
     "points": 2,
     "schema_version": 3,
     "solution": false,
     "task": false
    }
   },
   "outputs": [],
   "source": [
    "# Test cell  practice_7\n",
    "from unittest.mock import patch\n",
    "with patch('__main__.print') as mock_print:\n",
    "    practice_7(20, 50)\n",
    "mock_print.assert_called_once_with('The refund amount is $14.5.')\n"
   ]
  },
  {
   "cell_type": "code",
   "execution_count": null,
   "metadata": {
    "deletable": false,
    "editable": false,
    "nbgrader": {
     "cell_type": "code",
     "checksum": "1cfd1a57d39420d106a340e0ab569cef",
     "grade": true,
     "grade_id": "cell-1e4856019e1a79b4",
     "locked": true,
     "points": 2,
     "schema_version": 3,
     "solution": false,
     "task": false
    }
   },
   "outputs": [],
   "source": [
    "# Test cell  for practice_7 (hidden)"
   ]
  },
  {
   "cell_type": "code",
   "execution_count": 1,
   "metadata": {
    "deletable": false,
    "nbgrader": {
     "cell_type": "code",
     "checksum": "534bff7f6c70e661369bad7a7f2673bd",
     "grade": false,
     "grade_id": "cell-3d3d9a85927e5aa7",
     "locked": false,
     "schema_version": 3,
     "solution": true,
     "task": false
    }
   },
   "outputs": [],
   "source": [
    "def practice_8(a, b):\n",
    "    # Complete this function to print the following given two numbers a and b\n",
    "    \"\"\"\n",
    "    The sum of <a> and <b> is <result>.\n",
    "    The difference when <b> is substracted from <a> is <result>.\n",
    "    The product of <a> and <b> is <result>.\n",
    "    The quotient when <a> is divided by <b> is <result>.\n",
    "    The remainder when <a> is divided by <b> is <result>. \n",
    "    The result of <a>^<b> is <result>. \n",
    "    \"\"\"\n",
    "    \n",
    "    \"\"\"\n",
    "    a = 10\n",
    "    b = 5\n",
    "    The sum of 10 and 5 is 15.\n",
    "    The difference when 5 is substracted from 10 is -5.\n",
    "    The product of 10 and 5 is 50.\n",
    "    The quotient when 10 is divided by 5 is 2.0.\n",
    "    The remainder when 10 is divided by 5 is 2.\n",
    "    The result of 10^5 is 100000.\n",
    "\n",
    "    \n",
    "    \"\"\"\n",
    "    \n",
    "    # YOUR CODE HERE\n",
    "    \n",
    "    sum = a + b\n",
    "    sub = b - a\n",
    "    product = a * b\n",
    "    quotient = a/b\n",
    "    remainder = a%b\n",
    "    result = pow(a,b)\n",
    "    print('The sum of {0} and {1} is {2}.\\nThe difference when {0} is substracted from {1} is {3}.\\nThe product of {0} and {1} is {4}.\\nThe quotient when {0} is divided by {1} is {5}.\\nThe remainder when {0} is divided by {1} is {6}.\\nThe result of {0}^{1} is {7}.'.format(a,b,sum,sub,product,quotient,remainder,result))"
   ]
  },
  {
   "cell_type": "code",
   "execution_count": null,
   "metadata": {
    "deletable": false,
    "editable": false,
    "nbgrader": {
     "cell_type": "code",
     "checksum": "70b30dcdb1797fe95fead7d852f7f9d9",
     "grade": true,
     "grade_id": "cell-ffc618cee68a002e",
     "locked": true,
     "points": 2,
     "schema_version": 3,
     "solution": false,
     "task": false
    }
   },
   "outputs": [],
   "source": [
    "# Test cell  practice_8\n",
    "from unittest.mock import patch\n",
    "with patch('__main__.print') as mock_print:\n",
    "    practice_8(10, 5)\n",
    "result = \"\"\"The sum of 10 and 5 is 15.\n",
    "The difference when 10 is substracted from 5 is -5.\n",
    "The product of 10 and 5 is 50.\n",
    "The quotient when 10 is divided by 5 is 2.0.\n",
    "The remainder when 10 is divided by 5 is 0.\n",
    "The result of 10^5 is 100000.\"\"\"\n",
    "\n",
    "mock_print.assert_called_once_with(result)\n"
   ]
  },
  {
   "cell_type": "code",
   "execution_count": null,
   "metadata": {
    "deletable": false,
    "editable": false,
    "nbgrader": {
     "cell_type": "code",
     "checksum": "1899ef40ee3e53bad7e59cb62a75d103",
     "grade": true,
     "grade_id": "cell-faee29752b184c3a",
     "locked": true,
     "points": 2,
     "schema_version": 3,
     "solution": false,
     "task": false
    }
   },
   "outputs": [],
   "source": [
    "# Test cell  for practice_8 (hidden)"
   ]
  },
  {
   "cell_type": "code",
   "execution_count": null,
   "metadata": {
    "deletable": false,
    "nbgrader": {
     "cell_type": "code",
     "checksum": "8d38b55e61ad136b1cc728916a464c88",
     "grade": false,
     "grade_id": "cell-1f5e00fa4aaca178",
     "locked": false,
     "schema_version": 3,
     "solution": true,
     "task": false
    }
   },
   "outputs": [],
   "source": [
    "def practice_9(P, r, t):\n",
    "    # The formula for simple interest is A = P(1+rt), where P is\n",
    "    # the principle amount, r is the annual rate of interest,\n",
    "    # t is the number of years the amount is invested, and A\n",
    "    # is the amount at the end of the investment. \n",
    "    # Complete this function to print the following message:\n",
    "    # After <t> years at <r>%, the investment will be worth $<A>.\n",
    "    # Round the amount to two decimal places. \n",
    "    # Hint: rate is a percentage!\n",
    "    \n",
    "    # YOUR CODE HERE\n",
    "    A = round(P*(1+r*t/100),2)\n",
    "    print(\"After {} years at {}%, the investment will be worth ${}.\".format(t,r,A))\n"
   ]
  },
  {
   "cell_type": "code",
   "execution_count": null,
   "metadata": {
    "deletable": false,
    "editable": false,
    "nbgrader": {
     "cell_type": "code",
     "checksum": "d8b5e284a5d295322648ef8f3c54a053",
     "grade": true,
     "grade_id": "cell-5a5e0571e7a0c2bf",
     "locked": true,
     "points": 2,
     "schema_version": 3,
     "solution": false,
     "task": false
    }
   },
   "outputs": [],
   "source": [
    "# Test cell  practice_9\n",
    "\n",
    "from unittest.mock import patch\n",
    "with patch('__main__.print') as mock_print:\n",
    "    practice_9(1500, 4.3, 4)\n",
    "mock_print.assert_called_once_with('After 4 years at 4.3%, the investment will be worth $1758.0.')\n"
   ]
  },
  {
   "cell_type": "code",
   "execution_count": null,
   "metadata": {
    "deletable": false,
    "editable": false,
    "nbgrader": {
     "cell_type": "code",
     "checksum": "2f7ba9b5ebf7d99f7ba5e4172da7ac17",
     "grade": true,
     "grade_id": "cell-14b1955cc3c302df",
     "locked": true,
     "points": 2,
     "schema_version": 3,
     "solution": false,
     "task": false
    }
   },
   "outputs": [],
   "source": [
    "# Test cell  for practice_9 (hidden)"
   ]
  },
  {
   "cell_type": "code",
   "execution_count": null,
   "metadata": {
    "deletable": false,
    "nbgrader": {
     "cell_type": "code",
     "checksum": "6e506c7c18fab8120f2cff2185ea5819",
     "grade": false,
     "grade_id": "cell-5f5aaeb3dd44c165",
     "locked": false,
     "schema_version": 3,
     "solution": true,
     "task": false
    }
   },
   "outputs": [],
   "source": [
    "def practice_10(P, r, t, n):\n",
    "    # The formula for compound interest is \n",
    "    # A = P(1 + r/n)^nt\n",
    "    # where:\n",
    "    # P is the principle amount.\n",
    "    # r is the annual rate of interest.\n",
    "    # t is the number of years the amount is invested. \n",
    "    # n is the number of times the interest is compounded per year.\n",
    "    # A is the amount at the end of the investment. \n",
    "    # Complete this function to print the following:\n",
    "    # $<P> invested at <r>% for <t> years compounded <n> times per year is $<A>.\n",
    "\n",
    "    \n",
    "    # YOUR CODE HERE\n",
    "     A = round(P*(1+r/(n*100))**(n*t),2)\n",
    "     print(\"${} invested at {}% for {} years compounded {} times per year is ${}.\".format(P,r,t,n,A))\n",
    "    \n",
    "    "
   ]
  },
  {
   "cell_type": "code",
   "execution_count": null,
   "metadata": {
    "deletable": false,
    "editable": false,
    "nbgrader": {
     "cell_type": "code",
     "checksum": "b6faf5a9b87f92f1a7d8324a4de516dc",
     "grade": true,
     "grade_id": "cell-30c68e3ca19ac5e1",
     "locked": true,
     "points": 2,
     "schema_version": 3,
     "solution": false,
     "task": false
    }
   },
   "outputs": [],
   "source": [
    "# Test cell  practice_10\n",
    "\n",
    "from unittest.mock import patch\n",
    "with patch('__main__.print') as mock_print:\n",
    "    practice_10(1500, 4.3, 6, 4)\n",
    "mock_print.assert_called_once_with('$1500 invested at 4.3% for 6 years compounded 4 times per year is $1938.84.')\n"
   ]
  },
  {
   "cell_type": "code",
   "execution_count": null,
   "metadata": {
    "deletable": false,
    "editable": false,
    "nbgrader": {
     "cell_type": "code",
     "checksum": "c3d12fd16b0b3033df679f68c291a0e1",
     "grade": true,
     "grade_id": "cell-45ddeec89b139e2b",
     "locked": true,
     "points": 2,
     "schema_version": 3,
     "solution": false,
     "task": false
    }
   },
   "outputs": [],
   "source": [
    "# Test cell  for practice_10 (hidden)"
   ]
  }
 ],
 "metadata": {
  "kernelspec": {
   "display_name": "Python 3",
   "language": "python",
   "name": "python3"
  },
  "language_info": {
   "codemirror_mode": {
    "name": "ipython",
    "version": 3
   },
   "file_extension": ".py",
   "mimetype": "text/x-python",
   "name": "python",
   "nbconvert_exporter": "python",
   "pygments_lexer": "ipython3",
   "version": "3.6.9"
  }
 },
 "nbformat": 4,
 "nbformat_minor": 4
}
