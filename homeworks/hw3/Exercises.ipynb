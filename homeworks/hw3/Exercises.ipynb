{
 "cells": [
  {
   "cell_type": "markdown",
   "metadata": {},
   "source": [
    "Before you turn this problem in, make sure everything runs as expected. First, **restart the kernel** (in the menubar, select Kernel$\\rightarrow$Restart) and then **run all cells** (in the menubar, select Cell$\\rightarrow$Run All).\n",
    "\n",
    "Make sure you fill in any place that says `YOUR CODE HERE` or \"YOUR ANSWER HERE\", as well as your name and collaborators below:"
   ]
  },
  {
   "cell_type": "code",
   "execution_count": null,
   "metadata": {},
   "outputs": [],
   "source": [
    "NAME = \"VAISHNAVI VUKKU\"\n",
    "COLLABORATORS = \"PROFESSOR ZIA\""
   ]
  },
  {
   "cell_type": "markdown",
   "metadata": {},
   "source": [
    "---"
   ]
  },
  {
   "cell_type": "code",
   "execution_count": 1,
   "metadata": {
    "deletable": false,
    "nbgrader": {
     "cell_type": "code",
     "checksum": "25f6a7f1d63ec58603ca94aacd6dc72a",
     "grade": false,
     "grade_id": "cell-8abe173ecc588e38",
     "locked": false,
     "schema_version": 3,
     "solution": true,
     "task": false
    }
   },
   "outputs": [],
   "source": [
    "# Ex1\n",
    "def average_word_len_in_sentence(sentence):\n",
    "    # Complete this function to calculate the average\n",
    "    # word length in a sentence\n",
    "    # Input: sentence\n",
    "    # Output: average word length in sentence\n",
    "    # Hint: count punctuations with whatever word they are `touching`\n",
    "    # Hint: round the average to two decimal places\n",
    "   \n",
    "    # YOUR CODE HERE\n",
    "    words = sentence.split()\n",
    "    len_word = []\n",
    "    sum_word = 0\n",
    "    for i in range(len(words)):\n",
    "        word = words[i]\n",
    "        len_word.append(len(word))\n",
    "    for i in range(len(len_word)):\n",
    "        sum_word = sum_word + len_word[i]\n",
    "    avg_word_ln = round(sum_word/len(len_word),2)\n",
    "    return avg_word_ln"
   ]
  },
  {
   "cell_type": "code",
   "execution_count": null,
   "metadata": {
    "deletable": false,
    "editable": false,
    "nbgrader": {
     "cell_type": "code",
     "checksum": "b6c4aff20366d1aa657fc1abdd1c3a79",
     "grade": true,
     "grade_id": "cell-88eb75a67af14058",
     "locked": true,
     "points": 2,
     "schema_version": 3,
     "solution": false,
     "task": false
    }
   },
   "outputs": [],
   "source": [
    "assert average_word_len_in_sentence('This is a test sentence!') == 4"
   ]
  },
  {
   "cell_type": "code",
   "execution_count": null,
   "metadata": {
    "deletable": false,
    "editable": false,
    "nbgrader": {
     "cell_type": "code",
     "checksum": "4a6a913749ee0e1376198ef5317952f6",
     "grade": true,
     "grade_id": "cell-9a48ceb083442619",
     "locked": true,
     "points": 2,
     "schema_version": 3,
     "solution": false,
     "task": false
    }
   },
   "outputs": [],
   "source": [
    "# Hidden test"
   ]
  },
  {
   "cell_type": "code",
   "execution_count": 36,
   "metadata": {
    "deletable": false,
    "nbgrader": {
     "cell_type": "code",
     "checksum": "04307ddf21b6b2cb8586ce84b089c09f",
     "grade": false,
     "grade_id": "cell-9cd6ed6844d07523",
     "locked": false,
     "schema_version": 3,
     "solution": true,
     "task": false
    }
   },
   "outputs": [],
   "source": [
    "#Ex2\n",
    "def wc(filename):\n",
    "    # Complete this function to count the number of lines, words, and chars in a file. \n",
    "    # Input: filename\n",
    "    # Output: a tuple with line count, word count, and char count -- in this order\n",
    "\n",
    "    # YOUR CODE HERE\n",
    "    num_lines = 0\n",
    "    num_words = 0\n",
    "    num_chars = 0\n",
    "    with open(filename,'r') as file:\n",
    "        for line in file:\n",
    "            line_len = int(len(line))\n",
    "            # print(line_len)\n",
    "            line = line.strip()\n",
    "            num_lines += 1\n",
    "            words = line.split()\n",
    "            num_words += len(words)\n",
    "        \n",
    "            num_chars += line_len\n",
    "            \n",
    "            \n",
    "    return num_lines, num_words, num_chars\n"
   ]
  },
  {
   "cell_type": "code",
   "execution_count": 37,
   "metadata": {
    "deletable": false,
    "editable": false,
    "nbgrader": {
     "cell_type": "code",
     "checksum": "9ac41fa90e6c0d04ec38067a4fe5b7c5",
     "grade": true,
     "grade_id": "cell-9784281c8327eef5",
     "locked": true,
     "points": 4,
     "schema_version": 3,
     "solution": false,
     "task": false
    }
   },
   "outputs": [],
   "source": [
    "assert wc('ex2_data.txt') == (50, 643, 4298)\n"
   ]
  },
  {
   "cell_type": "code",
   "execution_count": null,
   "metadata": {
    "deletable": false,
    "nbgrader": {
     "cell_type": "code",
     "checksum": "970c1231f2b5edee86f32f5594426586",
     "grade": false,
     "grade_id": "cell-4cbfe85e128613b1",
     "locked": false,
     "schema_version": 3,
     "solution": true,
     "task": false
    }
   },
   "outputs": [],
   "source": [
    "#Ex3a\n",
    "def is_leap(year):\n",
    "    # Complete this function to check if year is a leap year\n",
    "    # Input: year\n",
    "    # Output: True or False (Boolean)\n",
    "\n",
    "    # YOUR CODE HERE\n",
    "    leap = year % 4\n",
    "    century = year % 100\n",
    "    \n",
    "    if leap == 0:\n",
    "        if century == 0:\n",
    "            if (year % 400) ==0:\n",
    "                leap_year = True\n",
    "            else:\n",
    "                leap_year = False\n",
    "        else:\n",
    "            leap_year = True\n",
    "    else:\n",
    "        leap_year = False\n",
    "    \n",
    "    return leap_year\n",
    "\n"
   ]
  },
  {
   "cell_type": "code",
   "execution_count": null,
   "metadata": {
    "deletable": false,
    "editable": false,
    "nbgrader": {
     "cell_type": "code",
     "checksum": "90ae8ad84e566dc8730438d14b86d1f6",
     "grade": true,
     "grade_id": "cell-b9a05e2e268a2c6a",
     "locked": true,
     "points": 4,
     "schema_version": 3,
     "solution": false,
     "task": false
    }
   },
   "outputs": [],
   "source": [
    "assert is_leap(1800) == False\n",
    "assert is_leap(1900) == False\n",
    "assert is_leap(1600) == True\n",
    "assert is_leap(2000) == True"
   ]
  },
  {
   "cell_type": "code",
   "execution_count": 22,
   "metadata": {
    "deletable": false,
    "nbgrader": {
     "cell_type": "code",
     "checksum": "3c2629ae2b4fd05fd89217dfc715475b",
     "grade": false,
     "grade_id": "cell-8b0875e64766bf5f",
     "locked": false,
     "schema_version": 3,
     "solution": true,
     "task": false
    }
   },
   "outputs": [],
   "source": [
    "#Ex3b\n",
    "def is_date_valid(month, day, year):\n",
    "    # Complete this function to check if a data is valid, given month, day, and year.  \n",
    "    # For example, 5/24/1962 is valid, but 9/31/2000 is not\n",
    "    # Inputs: month, day, year\n",
    "    # Output: True or False (Boolean)\n",
    "    # Hint: Use is leap year function\n",
    "\n",
    "    # YOUR CODE HERE\n",
    "    if month == 2:\n",
    "        if day == 29 and is_leap(year) == True:\n",
    "            output = True\n",
    "        elif day <= 28:\n",
    "            output = True\n",
    "        else:\n",
    "            output = False\n",
    "    elif month in (1, 3, 5, 7, 8, 10, 12):\n",
    "        if day <= 31:\n",
    "            output = True\n",
    "        else:\n",
    "            output = False\n",
    "    elif month in (4, 6, 9, 11):\n",
    "        if day <= 30:\n",
    "            output = True\n",
    "        else:\n",
    "            output = False\n",
    "    else:\n",
    "        output = False\n",
    "        \n",
    "    return output"
   ]
  },
  {
   "cell_type": "code",
   "execution_count": 23,
   "metadata": {
    "deletable": false,
    "editable": false,
    "nbgrader": {
     "cell_type": "code",
     "checksum": "e7460c27f269c1a2e45f5da2c847e5f4",
     "grade": true,
     "grade_id": "cell-0af99a4a4a8d91ee",
     "locked": true,
     "points": 2,
     "schema_version": 3,
     "solution": false,
     "task": false
    }
   },
   "outputs": [],
   "source": [
    "assert is_date_valid(5, 24, 1962) == True\n",
    "assert is_date_valid(9, 31, 2000) == False"
   ]
  },
  {
   "cell_type": "code",
   "execution_count": 24,
   "metadata": {
    "deletable": false,
    "editable": false,
    "nbgrader": {
     "cell_type": "code",
     "checksum": "25104c7bbecd3939510759effcf7addd",
     "grade": true,
     "grade_id": "cell-72635d6da9df7e2b",
     "locked": true,
     "points": 2,
     "schema_version": 3,
     "solution": false,
     "task": false
    }
   },
   "outputs": [],
   "source": [
    "# Hidden tests"
   ]
  },
  {
   "cell_type": "code",
   "execution_count": 25,
   "metadata": {
    "deletable": false,
    "nbgrader": {
     "cell_type": "code",
     "checksum": "f87041afba39d2c6cd87b512347e37cb",
     "grade": false,
     "grade_id": "cell-cdb696c1bc3474fa",
     "locked": false,
     "schema_version": 3,
     "solution": true,
     "task": false
    }
   },
   "outputs": [],
   "source": [
    "#Ex4\n",
    "def day_number(month, day, year):\n",
    "    # Complete this function to calculate the day_number given month, day, and year.\n",
    "    # Information: The days of the year are often numbered from 1 through 365 (or 366).\n",
    "    # This number can be computed in three steps using int arithmetic:\n",
    "    # (a) - day_num = 31 * (month - 1) + day\n",
    "    # (b) - if the month is after February subtract (4*(month)+23)//10\n",
    "    # (c) - if it's a leap year and after February 29, add 1\n",
    "    # Hint: First verify the input date is valid, return False if it is not valid; use is_date_valid\n",
    "    # Hint: Also use the is_leap function\n",
    "    # Inputs: month, day, year\n",
    "    # Output: the day number or False (boolean) if the date is invalid. \n",
    "\n",
    "    # YOUR CODE HERE\n",
    "    if is_date_valid(month, day, year) == True:\n",
    "        day_num = 31 * (month - 1) + day\n",
    "        if month > 2 and is_leap(year) == False:\n",
    "            day_num = day_num - ((4*(month)+23)//10)\n",
    "        elif month > 2 and is_leap(year) == True:\n",
    "            day_num = (day_num - (4*(month)+23)//10) + 1\n",
    "        else:\n",
    "            day_num = day_num\n",
    "    else:\n",
    "        day_num = False\n",
    "    return day_num\n"
   ]
  },
  {
   "cell_type": "code",
   "execution_count": 26,
   "metadata": {
    "deletable": false,
    "editable": false,
    "nbgrader": {
     "cell_type": "code",
     "checksum": "916039ba5b390e02f3349fe97b76608c",
     "grade": true,
     "grade_id": "cell-411ea3b17d1adb33",
     "locked": true,
     "points": 2,
     "schema_version": 3,
     "solution": false,
     "task": false
    }
   },
   "outputs": [],
   "source": [
    "assert day_number(9, 31, 2000) == False\n",
    "assert day_number(2, 13, 2020) == 44"
   ]
  },
  {
   "cell_type": "code",
   "execution_count": 27,
   "metadata": {
    "deletable": false,
    "editable": false,
    "nbgrader": {
     "cell_type": "code",
     "checksum": "3ffa2a09dccc83aeb749d3deaff0dde1",
     "grade": true,
     "grade_id": "cell-00925de994310b09",
     "locked": true,
     "points": 2,
     "schema_version": 3,
     "solution": false,
     "task": false
    }
   },
   "outputs": [],
   "source": [
    "# Hidden tests\n"
   ]
  },
  {
   "cell_type": "code",
   "execution_count": null,
   "metadata": {
    "deletable": false,
    "nbgrader": {
     "cell_type": "code",
     "checksum": "36330ee47884979f892a02194cccb294",
     "grade": false,
     "grade_id": "cell-e03020ec7bc1b440",
     "locked": false,
     "schema_version": 3,
     "solution": true,
     "task": false
    }
   },
   "outputs": [],
   "source": [
    "#Ex5\n",
    "def years_to_double_investment(apr):\n",
    "    # Complete this function to use a while loop to determine how long it takes for an investment \n",
    "    # to double at a given interest rate. The input to this function, apr, is the annualized interest rate\n",
    "    # and the output is the number of years it takes an investment to double. Note: The amount of the initial \n",
    "    # investment (principal) does not matter; you can use $1. \n",
    "    # Hint: principal is the amount of money being invested. \n",
    "    # apr is the annual percentage rate expressed as a decimal number.  \n",
    "    # Relationship: value after one year is given by principal * (1+ apr)\n",
    "\n",
    "    # YOUR CODE HERE\n",
    "    principal = 1\n",
    "    year = 0\n",
    "    bal = principal\n",
    "    \n",
    "    while bal < 2 * principal:\n",
    "        bal = bal * (1+ apr)\n",
    "        year += 1\n",
    "    \n",
    "    return year"
   ]
  },
  {
   "cell_type": "code",
   "execution_count": null,
   "metadata": {
    "deletable": false,
    "editable": false,
    "nbgrader": {
     "cell_type": "code",
     "checksum": "fefc4d591b3ac497bb6864dab731aec6",
     "grade": true,
     "grade_id": "cell-37833043ebab338a",
     "locked": true,
     "points": 2,
     "schema_version": 3,
     "solution": false,
     "task": false
    }
   },
   "outputs": [],
   "source": [
    "assert years_to_double_investment(0.06) == 12\n",
    "assert years_to_double_investment(0.1) == 8"
   ]
  },
  {
   "cell_type": "code",
   "execution_count": 1,
   "metadata": {
    "deletable": false,
    "nbgrader": {
     "cell_type": "code",
     "checksum": "e6f75d03290dc1d97c6db5980d498d50",
     "grade": false,
     "grade_id": "cell-915174ac3c531b23",
     "locked": false,
     "schema_version": 3,
     "solution": true,
     "task": false
    }
   },
   "outputs": [],
   "source": [
    "#Ex6 \n",
    "def stopping_time(n):\n",
    "    # Complete this function to return the number of steps taken to reach 1 in\n",
    "    # the Collatz sequence (https://en.wikipedia.org/wiki/Collatz_conjecture)\n",
    "\n",
    "    # YOUR CODE HERE\n",
    "    step = 0\n",
    "    while n != 1:\n",
    "        if n % 2 == 0:\n",
    "            n = n / 2\n",
    "            step += 1\n",
    "           \n",
    "        else:\n",
    "            n = 3*n + 1\n",
    "            step += 1\n",
    "            \n",
    "    return step"
   ]
  },
  {
   "cell_type": "code",
   "execution_count": 2,
   "metadata": {
    "deletable": false,
    "editable": false,
    "nbgrader": {
     "cell_type": "code",
     "checksum": "9dafcc4d9080dbb4e15d188cc1609983",
     "grade": true,
     "grade_id": "cell-cb2141fe7de88db3",
     "locked": true,
     "points": 2,
     "schema_version": 3,
     "solution": false,
     "task": false
    }
   },
   "outputs": [],
   "source": [
    "assert stopping_time(12) == 9\n",
    "assert stopping_time(27) == 111"
   ]
  },
  {
   "cell_type": "code",
   "execution_count": 3,
   "metadata": {
    "deletable": false,
    "editable": false,
    "nbgrader": {
     "cell_type": "code",
     "checksum": "7713a5279e0c13dc42965d288ab7d70a",
     "grade": true,
     "grade_id": "cell-a6ca4ec347d83750",
     "locked": true,
     "points": 2,
     "schema_version": 3,
     "solution": false,
     "task": false
    }
   },
   "outputs": [],
   "source": [
    "# hidden tests"
   ]
  },
  {
   "cell_type": "code",
   "execution_count": 12,
   "metadata": {
    "deletable": false,
    "nbgrader": {
     "cell_type": "code",
     "checksum": "100870c95e35b7ac29603477e3e9f44e",
     "grade": false,
     "grade_id": "cell-d5c69bc0cb4c6837",
     "locked": false,
     "schema_version": 3,
     "solution": true,
     "task": false
    }
   },
   "outputs": [],
   "source": [
    "#Ex7\n",
    "def is_prime(n):\n",
    "    # A positive whole number > 2 is prime if no number between 2 and sqrt(n)\n",
    "    # (include) evenly divides n. Write a program that accepts a value of n as\n",
    "    # input and determine if the value is prime. If n is not prime, your program should\n",
    "    # return False (boolean) as soon as it finds a value that evenly divides n.\n",
    "    # Hint: if number is 2, return False\n",
    "\n",
    "    import math\n",
    "    \n",
    "    # YOUR CODE HERE\n",
    "    output = True\n",
    "    if n ==2:\n",
    "        output = False\n",
    "    for i in range(2,int( math.sqrt(n)+1)):\n",
    "        if n % i == 0:\n",
    "            output = False\n",
    "            break\n",
    "        else:\n",
    "            output = True\n",
    "            \n",
    "    return output"
   ]
  },
  {
   "cell_type": "code",
   "execution_count": 13,
   "metadata": {
    "deletable": false,
    "editable": false,
    "nbgrader": {
     "cell_type": "code",
     "checksum": "ad5edf1b21109841edbaeaf0743f8cc3",
     "grade": true,
     "grade_id": "cell-da18c35e0a5d579e",
     "locked": true,
     "points": 4,
     "schema_version": 3,
     "solution": false,
     "task": false
    }
   },
   "outputs": [],
   "source": [
    "assert is_prime(2) == False\n",
    "assert is_prime(3) == True\n",
    "assert is_prime(5) == True\n",
    "assert is_prime(25) == False\n"
   ]
  },
  {
   "cell_type": "code",
   "execution_count": 14,
   "metadata": {
    "deletable": false,
    "nbgrader": {
     "cell_type": "code",
     "checksum": "dbca4e91c4e1785d402204bc966c5c2b",
     "grade": false,
     "grade_id": "cell-ad04b1135365e292",
     "locked": false,
     "schema_version": 3,
     "solution": true,
     "task": false
    }
   },
   "outputs": [],
   "source": [
    "#Ex8\n",
    "def all_primes(n):\n",
    "    # Complete this function to return all the primes as a list less than or equal to n\n",
    "    # Input: n\n",
    "    # Output: a list of numbers\n",
    "\n",
    "    # YOUR CODE HERE\n",
    "    all_primes = [3]\n",
    "    for primes in range(4, n+1):\n",
    "        if is_prime(primes) == True:\n",
    "            all_primes.append(primes)\n",
    "        else:\n",
    "            continue\n",
    "                \n",
    "    return all_primes"
   ]
  },
  {
   "cell_type": "code",
   "execution_count": 15,
   "metadata": {
    "deletable": false,
    "editable": false,
    "nbgrader": {
     "cell_type": "code",
     "checksum": "c016edf398c92b85f38456d8e996c71f",
     "grade": true,
     "grade_id": "cell-3e7dbc25ba03421c",
     "locked": true,
     "points": 2,
     "schema_version": 3,
     "solution": false,
     "task": false
    }
   },
   "outputs": [],
   "source": [
    "assert all_primes(5) == [3, 5]\n",
    "assert all_primes(25) == [3, 5, 7, 11, 13, 17, 19, 23]\n"
   ]
  },
  {
   "cell_type": "code",
   "execution_count": 1,
   "metadata": {
    "deletable": false,
    "nbgrader": {
     "cell_type": "code",
     "checksum": "30fd92f0d496bccaa88823d615d71618",
     "grade": false,
     "grade_id": "cell-d6cdbdb6ba20e916",
     "locked": false,
     "schema_version": 3,
     "solution": true,
     "task": false
    }
   },
   "outputs": [],
   "source": [
    "#Ex9\n",
    "def gcd(m,n):\n",
    "    # Complete this function to determine the greatest common divisor (GCD). \n",
    "    # The GCD of two values can be computed using Euclid's algorithm. Starting with the values\n",
    "    # m and n, we repeatedly apply the formula: n, m = m, n%m until m is 0. At this point, n is the GCD\n",
    "    # of the original m and n. \n",
    "    # Inputs: m and n which are both natural numbers\n",
    "    # Output: gcd\n",
    "\n",
    "    # YOUR CODE HERE\n",
    "    if m < n:\n",
    "        a = n\n",
    "        b = m\n",
    "    else:\n",
    "        a = m\n",
    "        b = n\n",
    "    \n",
    "    while a != 0:\n",
    "        r = a%b\n",
    "        \n",
    "        if r == 0:\n",
    "            break\n",
    "        else:\n",
    "            a = b\n",
    "            b = r\n",
    "    return b\n"
   ]
  },
  {
   "cell_type": "code",
   "execution_count": 2,
   "metadata": {
    "deletable": false,
    "editable": false,
    "nbgrader": {
     "cell_type": "code",
     "checksum": "94c4dba12d76cb641e31c447d5f10676",
     "grade": true,
     "grade_id": "cell-9a4f50a09e28d52d",
     "locked": true,
     "points": 2,
     "schema_version": 3,
     "solution": false,
     "task": false
    }
   },
   "outputs": [],
   "source": [
    "assert gcd(25,75) == 25\n",
    "assert gcd(3,13) == 1"
   ]
  },
  {
   "cell_type": "code",
   "execution_count": null,
   "metadata": {
    "deletable": false,
    "editable": false,
    "nbgrader": {
     "cell_type": "code",
     "checksum": "1c1cde2cab2cd2abfe743064c89cd77b",
     "grade": true,
     "grade_id": "cell-6bba97d2c8fa2d9f",
     "locked": true,
     "points": 2,
     "schema_version": 3,
     "solution": false,
     "task": false
    }
   },
   "outputs": [],
   "source": []
  },
  {
   "cell_type": "code",
   "execution_count": 1,
   "metadata": {
    "deletable": false,
    "nbgrader": {
     "cell_type": "code",
     "checksum": "7b05a017f73870e704b42e1fcc850aad",
     "grade": false,
     "grade_id": "cell-2e1d0f8cbd0fefe2",
     "locked": false,
     "schema_version": 3,
     "solution": true,
     "task": false
    }
   },
   "outputs": [],
   "source": [
    "#Ex10\n",
    "def determine_min_max_average(filename):\n",
    "    # Complete this function to read grades from a file and determine the student with the highest average \n",
    "    # test grades and the lowest average test grades. \n",
    "    # Input: filename\n",
    "    # Output: a tuple containing four elements: name of student with highest average, their average, \n",
    "    # name of the student with the lowest test grade, and their average. Example ('Student1', 99.50, 'Student5', 65.50)\n",
    "    # Hint: Round to two decimal places\n",
    "\n",
    "    # YOUR CODE HERE\n",
    "    student_names = []\n",
    "    average_scores = []\n",
    "    # combined_list = []\n",
    "\n",
    "    with open(filename,'r') as file:\n",
    "        for line in file:\n",
    "            line = line.strip()\n",
    "            line = list(line.split(\",\"))\n",
    "            \n",
    "            if len(line) == 26:\n",
    "                subjects = len(line)-1\n",
    "                sum = 0\n",
    "        \n",
    "                for i in range(len(line)):\n",
    "                    if i == 0:\n",
    "                        student_name = line[i]\n",
    "                        student_names.append(student_name)\n",
    "                    else:\n",
    "                        sum = sum + int(line[i])\n",
    "                average = round(sum/subjects,2)\n",
    "                average_scores.append(average)\n",
    "            else:\n",
    "                continue\n",
    "        \n",
    "        max_index = average_scores.index(max(average_scores))\n",
    "        max_student_name = student_names[max_index]\n",
    "        max_average = max(average_scores)\n",
    "        min_index = average_scores.index(min(average_scores))\n",
    "        min_student_name = student_names[min_index]\n",
    "        min_average = min(average_scores)\n",
    "   \n",
    "    return max_student_name, max_average, min_student_name, min_average"
   ]
  },
  {
   "cell_type": "code",
   "execution_count": 2,
   "metadata": {
    "deletable": false,
    "editable": false,
    "nbgrader": {
     "cell_type": "code",
     "checksum": "df746ce1e06b5143e83565d7ad7baf3d",
     "grade": true,
     "grade_id": "cell-c8ec04f59adc84af",
     "locked": true,
     "points": 4,
     "schema_version": 3,
     "solution": false,
     "task": false
    }
   },
   "outputs": [],
   "source": [
    "assert determine_min_max_average('ex10_data.txt') == ('student733', 86.2, 'student202', 65.4)"
   ]
  },
  {
   "cell_type": "code",
   "execution_count": 3,
   "metadata": {
    "deletable": false,
    "nbgrader": {
     "cell_type": "code",
     "checksum": "4c9483024a3ae36b4b22959d246b6228",
     "grade": false,
     "grade_id": "cell-423f49b4dbb9cda6",
     "locked": false,
     "schema_version": 3,
     "solution": true,
     "task": false
    }
   },
   "outputs": [],
   "source": [
    "# Ex11:Is a License Plate Valid?\n",
    "\n",
    "def is_license_plate_valid(plate):\n",
    "\n",
    "    # In a particular jurisdiction, older license plates consist of three uppercase\n",
    "    # letters followed by three digits. When all of the license plates following\n",
    "    # that pattern had been used, the format was changed to four digits followed by\n",
    "    # three uppercase letters. \n",
    "\n",
    "    # Complete this function whose only input is a license plate and its output\n",
    "    # is: 1) Older/Valid 2) Newer/Valid 3) Invalid\n",
    "    # input: plate (str)\n",
    "    # output: 'Older/Valid' or 'Newer/Valid' or 'Invalid'\n",
    "\n",
    "    # YOUR CODE HERE\n",
    "    plate_lst = list(plate)\n",
    "    if len(plate_lst) == 6 or len(plate_lst) == 7:\n",
    "        if plate_lst[0].isupper() and plate_lst[1].isupper() and plate_lst[2].isupper() and plate_lst[3].isnumeric() and plate_lst[4].isnumeric() and plate_lst[5].isnumeric():\n",
    "            output = 'Older/Valid'\n",
    "        elif plate_lst[0].isnumeric() and plate_lst[1].isnumeric() and plate_lst[2].isnumeric() and plate_lst[3].isnumeric() and plate_lst[4].isupper() and plate_lst[5].isupper() and plate_lst[6].isupper():\n",
    "            output = 'Newer/Valid' \n",
    "        else:\n",
    "            output = 'Invalid'\n",
    "    else:\n",
    "        output = 'Invalid'\n",
    "    return output\n"
   ]
  },
  {
   "cell_type": "code",
   "execution_count": 4,
   "metadata": {
    "deletable": false,
    "editable": false,
    "nbgrader": {
     "cell_type": "code",
     "checksum": "89755b80aa5c11d74e49d0879687d54b",
     "grade": true,
     "grade_id": "cell-1900e84b3f513c64",
     "locked": true,
     "points": 4,
     "schema_version": 3,
     "solution": false,
     "task": false
    }
   },
   "outputs": [],
   "source": [
    "assert is_license_plate_valid('ABC123') == 'Older/Valid'\n",
    "assert is_license_plate_valid('GHE952') == 'Older/Valid'\n",
    "assert is_license_plate_valid('1934ABT') == 'Newer/Valid'\n",
    "assert is_license_plate_valid('bTR342') == 'Invalid'"
   ]
  },
  {
   "cell_type": "code",
   "execution_count": null,
   "metadata": {
    "deletable": false,
    "editable": false,
    "nbgrader": {
     "cell_type": "code",
     "checksum": "7aaed0e525c967395c14984de90d1c1c",
     "grade": true,
     "grade_id": "cell-cfcb59d207e5d3cd",
     "locked": true,
     "points": 4,
     "schema_version": 3,
     "solution": false,
     "task": false
    }
   },
   "outputs": [],
   "source": []
  },
  {
   "cell_type": "code",
   "execution_count": 7,
   "metadata": {
    "deletable": false,
    "nbgrader": {
     "cell_type": "code",
     "checksum": "929aab07b474fd62a8e12d2572b433f3",
     "grade": false,
     "grade_id": "cell-859f437c63175722",
     "locked": false,
     "schema_version": 3,
     "solution": true,
     "task": false
    }
   },
   "outputs": [],
   "source": [
    "# Ex12: Magic dates\n",
    "\n",
    "def is_magic_date(date):\n",
    "    # A magic date is a date where the day multiplied by the month is equal \n",
    "    # to the two digit year. For example, June 10, 1960 is a magic date because\n",
    "    # June is the sixth month, and 6 times 10 is 60, which is equal to the two\n",
    "    # digit year. Complete this function to determine whether or not a date is\n",
    "    # a magic date.\n",
    "\n",
    "    # input: date (str -- month/day/year)\n",
    "    # output: True or False (bool)\n",
    "\n",
    "\n",
    "    # YOUR CODE HERE\n",
    "    date_lst = list(date.split(\"/\")) \n",
    "    \n",
    "    day_month = int(date_lst[0]) * int(date_lst[1])\n",
    "    year = date_lst[2]\n",
    "    year = year[2:]\n",
    "    \n",
    "    if int(day_month) == int(year):\n",
    "        output = True\n",
    "    else:\n",
    "        output = False\n",
    "    \n",
    "    return output"
   ]
  },
  {
   "cell_type": "code",
   "execution_count": 8,
   "metadata": {
    "deletable": false,
    "editable": false,
    "nbgrader": {
     "cell_type": "code",
     "checksum": "42885a1231b3160f8c03b89ea28be0b9",
     "grade": true,
     "grade_id": "cell-7a1fa98499aba445",
     "locked": true,
     "points": 2,
     "schema_version": 3,
     "solution": false,
     "task": false
    }
   },
   "outputs": [],
   "source": [
    "assert is_magic_date('6/10/1960') == True\n",
    "assert is_magic_date('6/8/1948') == True"
   ]
  },
  {
   "cell_type": "code",
   "execution_count": 54,
   "metadata": {
    "deletable": false,
    "nbgrader": {
     "cell_type": "code",
     "checksum": "cae484990e04a474c435c3665808f41b",
     "grade": false,
     "grade_id": "cell-22929b608ed4e3ba",
     "locked": false,
     "schema_version": 3,
     "solution": true,
     "task": false
    }
   },
   "outputs": [],
   "source": [
    "# Ex13\n",
    "def remove_outliers(data, num_outliers):\n",
    "    # When analyzing data collected as a part of a science experiment it \n",
    "    # may be desriable to remove the most extreme values before performing\n",
    "    # other calculations. Complete this function which takes a list of\n",
    "    # values and an non-negative integer, num_outliers, as its parameters.\n",
    "    # The function should create a new copy of the list with the num_outliers \n",
    "    # largest elements and the num_outliers smallest elements removed. \n",
    "    # Then it should return teh new copy of the list as the function's only \n",
    "    # result. The order of the elements in the returned list does not have to\n",
    "    # match the order of the lemetns in the original list.\n",
    "    # input1: data (list)\n",
    "    # input2: num_outliers (int)\n",
    "\n",
    "    # output: list\n",
    "\n",
    "\n",
    "\n",
    "    # YOUR CODE HERE\n",
    "    pre_process = data.sort()\n",
    "    pre_process = data[num_outliers:-num_outliers]  \n",
    "    \n",
    "       \n",
    "    return pre_process"
   ]
  },
  {
   "cell_type": "code",
   "execution_count": 55,
   "metadata": {
    "deletable": false,
    "editable": false,
    "nbgrader": {
     "cell_type": "code",
     "checksum": "ab0a2036a0338a47f9281b9130cee5ee",
     "grade": true,
     "grade_id": "cell-f37107e0e303a5ca",
     "locked": true,
     "points": 2,
     "schema_version": 3,
     "solution": false,
     "task": false
    }
   },
   "outputs": [],
   "source": [
    "import random\n",
    "random.seed(1234)\n",
    "data = [random.randint(50, 150) for ele in range(100)]\n",
    "data[45] = 1\n",
    "data[46] = 2\n",
    "data[90] = 250\n",
    "data[34] = 300\n",
    "\n",
    "result = [50, 50, 51, 52, 52, 52, 53, 53, 54, \n",
    "55, 55, 55, 55, 56, 58, 58, 59, 59, 59, 60, 61, 61, \n",
    "61, 62, 64, 64, 64, 68, 68, 68, 69, 69, 69, 70, 71, \n",
    "72, 73, 75, 77, 80, 81, 81, 84, 84, 84, 85, 88, 88, 89, \n",
    "92, 94, 94, 95, 95, 98, 103, 106, 108, 108, 109, 109, 109, \n",
    "110, 111, 111, 112, 113, 114, 115, 115, 117, 117, 119, 121, \n",
    "124, 124, 125, 126, 128, 129, 132, 132, 133, 134, 135, 135, \n",
    "135, 136, 138, 140, 141, 148, 148, 149, 149, 150]\n",
    "\n",
    "assert remove_outliers(data, 2) == result\n"
   ]
  },
  {
   "cell_type": "code",
   "execution_count": null,
   "metadata": {
    "deletable": false,
    "editable": false,
    "nbgrader": {
     "cell_type": "code",
     "checksum": "088ff4b6fe107f7af39440b096e2fdc3",
     "grade": true,
     "grade_id": "cell-f584e176be7f53bc",
     "locked": true,
     "points": 2,
     "schema_version": 3,
     "solution": false,
     "task": false
    }
   },
   "outputs": [],
   "source": []
  },
  {
   "cell_type": "code",
   "execution_count": 11,
   "metadata": {
    "deletable": false,
    "nbgrader": {
     "cell_type": "code",
     "checksum": "b6ef99c46e33ca1a0aa4e49c9b11408b",
     "grade": false,
     "grade_id": "cell-76c8326115a8aee3",
     "locked": false,
     "schema_version": 3,
     "solution": true,
     "task": false
    }
   },
   "outputs": [],
   "source": [
    "# Ex14: Removing duplicates\n",
    "\n",
    "def remove_duplicates(words):\n",
    "    # Complete this function to remove duplicates from the words list using a loop\n",
    "    # input: words (list)\n",
    "    # output: a list without duplicates\n",
    "\n",
    "    # YOUR CODE HERE\n",
    "    output_list = []\n",
    "    \n",
    "    for i in words:\n",
    "        \n",
    "        if i not in output_list:\n",
    "            output_list.append(i)\n",
    "    \n",
    "    return output_list\n",
    "\n"
   ]
  },
  {
   "cell_type": "code",
   "execution_count": 12,
   "metadata": {
    "deletable": false,
    "editable": false,
    "nbgrader": {
     "cell_type": "code",
     "checksum": "6eda2d72f58746a42a2459a45a06d186",
     "grade": true,
     "grade_id": "cell-0b3ad78a5f56ef26",
     "locked": true,
     "points": 2,
     "schema_version": 3,
     "solution": false,
     "task": false
    }
   },
   "outputs": [],
   "source": [
    "assert remove_duplicates([1,2,3,3,3,4,5,6,7,7,8]) == [1, 2, 3, 4, 5, 6, 7, 8]\n"
   ]
  },
  {
   "cell_type": "code",
   "execution_count": null,
   "metadata": {
    "deletable": false,
    "editable": false,
    "nbgrader": {
     "cell_type": "code",
     "checksum": "fbc76dd31d1bfc8ca526c71cde0a0043",
     "grade": true,
     "grade_id": "cell-6f1773c6eb139b8d",
     "locked": true,
     "points": 2,
     "schema_version": 3,
     "solution": false,
     "task": false
    }
   },
   "outputs": [],
   "source": []
  },
  {
   "cell_type": "code",
   "execution_count": 20,
   "metadata": {
    "deletable": false,
    "nbgrader": {
     "cell_type": "code",
     "checksum": "bced68ade0b6942be0db92e49469b8af",
     "grade": false,
     "grade_id": "cell-3b7cdbf9f92b6fb9",
     "locked": false,
     "schema_version": 3,
     "solution": true,
     "task": false
    }
   },
   "outputs": [],
   "source": [
    "# Ex15: List of proper divisors\n",
    "\n",
    "def proper_divisors(n):\n",
    "    # A proper divisor ofa  positive integer, n, is a positive integer less than n which divides\n",
    "    # evenly into n. Complete this function to compute all the proper divisors of a positive\n",
    "    # integer. The integer is passed to this function as the only parameter. The function will\n",
    "    # return a list of containing all of the proper divisors as its only reult. \n",
    "\n",
    "    # input: n (int)\n",
    "    # output: list\n",
    "\n",
    "    # YOUR CODE HERE\n",
    "    div_lst = []\n",
    "    \n",
    "    for i in range(n-1):\n",
    "        i = i+1\n",
    "        if n%i == 0:\n",
    "            div_lst.append(i)\n",
    "        else:\n",
    "            continue\n",
    "    \n",
    "    return div_lst\n"
   ]
  },
  {
   "cell_type": "code",
   "execution_count": 21,
   "metadata": {
    "deletable": false,
    "editable": false,
    "nbgrader": {
     "cell_type": "code",
     "checksum": "a6ddd7713b235be9c7e3306126c046a6",
     "grade": true,
     "grade_id": "cell-13e6b6403196da76",
     "locked": true,
     "points": 2,
     "schema_version": 3,
     "solution": false,
     "task": false
    }
   },
   "outputs": [],
   "source": [
    "assert proper_divisors(28) == [1, 2, 4, 7, 14]\n"
   ]
  },
  {
   "cell_type": "code",
   "execution_count": null,
   "metadata": {
    "deletable": false,
    "editable": false,
    "nbgrader": {
     "cell_type": "code",
     "checksum": "a9e88dc49e714491ccab1d96706fe335",
     "grade": true,
     "grade_id": "cell-e7223c2aeb9c5d36",
     "locked": true,
     "points": 2,
     "schema_version": 3,
     "solution": false,
     "task": false
    }
   },
   "outputs": [],
   "source": []
  },
  {
   "cell_type": "code",
   "execution_count": 24,
   "metadata": {
    "deletable": false,
    "nbgrader": {
     "cell_type": "code",
     "checksum": "689af51205a65cc9efeab336925c523e",
     "grade": false,
     "grade_id": "cell-a94951aac16e950f",
     "locked": false,
     "schema_version": 3,
     "solution": true,
     "task": false
    }
   },
   "outputs": [],
   "source": [
    "#Ex16: Perfect Numbers\n",
    "def is_number_perfect(n):\n",
    "    # An integer, n, is said to be perfect when the sum of all of the proper divisors \n",
    "    # of n is equal to n. For example, 28 is a perfect number because its proper divisors\n",
    "    # are 1, 2, 4, 7, and 14 = 28 \n",
    "    # Complete this function to determine if a the number a perfect number or not. \n",
    "    # input: n (int)\n",
    "    # output: True or False (bool)\n",
    "\n",
    "\n",
    "    # YOUR CODE HERE\n",
    "    lst_div = proper_divisors(n)\n",
    "    print(lst_div)\n",
    "    sum = 0\n",
    "    for i in range(len(lst_div)):\n",
    "        sum = sum + lst_div[i]\n",
    "      \n",
    "    if sum == n:\n",
    "        output = True\n",
    "    else:\n",
    "        output = False\n",
    "    \n",
    "    return output"
   ]
  },
  {
   "cell_type": "code",
   "execution_count": 25,
   "metadata": {
    "deletable": false,
    "editable": false,
    "nbgrader": {
     "cell_type": "code",
     "checksum": "1139be1a7ed4f1c87927b732096c6678",
     "grade": true,
     "grade_id": "cell-14d8cfff6ced5461",
     "locked": true,
     "points": 2,
     "schema_version": 3,
     "solution": false,
     "task": false
    }
   },
   "outputs": [
    {
     "name": "stdout",
     "output_type": "stream",
     "text": [
      "[1, 2, 4, 7, 14]\n",
      "[1, 2, 4, 19, 38]\n"
     ]
    }
   ],
   "source": [
    "assert is_number_perfect(28) == True\n",
    "assert is_number_perfect(76) == False\n"
   ]
  },
  {
   "cell_type": "code",
   "execution_count": null,
   "metadata": {
    "deletable": false,
    "editable": false,
    "nbgrader": {
     "cell_type": "code",
     "checksum": "67fc474052dea83d135c40f1da9aea1c",
     "grade": true,
     "grade_id": "cell-14eb44447e299251",
     "locked": true,
     "points": 2,
     "schema_version": 3,
     "solution": false,
     "task": false
    }
   },
   "outputs": [],
   "source": []
  },
  {
   "cell_type": "code",
   "execution_count": 26,
   "metadata": {
    "deletable": false,
    "nbgrader": {
     "cell_type": "code",
     "checksum": "05b1d500f7e689806d47d82a883160b0",
     "grade": false,
     "grade_id": "cell-21d1d1b24e27c644",
     "locked": false,
     "schema_version": 3,
     "solution": true,
     "task": false
    }
   },
   "outputs": [],
   "source": [
    "# Ex17: Line of Best Fit\n",
    "def best_line(points):\n",
    "    # Complete this function to determine the best line. \n",
    "    # https://www.varsitytutors.com/hotmath/hotmath_help/topics/line-of-best-fit\n",
    "    # input: points (list of tuples contain x, y values)\n",
    "    # output: (m, b) # round both values to two decimal places\n",
    "\n",
    "    # YOUR CODE HERE\n",
    "     #step1\n",
    "    x_list = [x_crd[0] for x_crd in points]\n",
    "    x_sum = 0\n",
    "    for i in range(len(x_list)):\n",
    "        x_sum = x_sum + x_list[i]\n",
    "    mean_x = x_sum/len(x_list)\n",
    "    \n",
    "    y_list = [y_crd[1] for y_crd in points]\n",
    "    y_sum = 0\n",
    "    for j in range(len(y_list)):\n",
    "        y_sum = y_sum + y_list[j]\n",
    "    mean_y = y_sum/len(y_list)\n",
    "    \n",
    "    #step2\n",
    "    num = 0\n",
    "    den = 0\n",
    "    for i in range(len(x_list)):\n",
    "        num = num + ((x_list[i] - mean_x)*(y_list[i] - mean_y))\n",
    "        den = den + ((x_list[i] - mean_x)**2)\n",
    "    slope = round(num/den,2)\n",
    "    \n",
    "    #step3\n",
    "    y_intercept = round(mean_y - (num/den * mean_x),2)\n",
    "                    \n",
    "    return slope, y_intercept\n"
   ]
  },
  {
   "cell_type": "code",
   "execution_count": 27,
   "metadata": {
    "deletable": false,
    "editable": false,
    "nbgrader": {
     "cell_type": "code",
     "checksum": "06de236fe9c94cf5c816a600a374d1dc",
     "grade": true,
     "grade_id": "cell-386bd6a9301a19da",
     "locked": true,
     "points": 2,
     "schema_version": 3,
     "solution": false,
     "task": false
    }
   },
   "outputs": [],
   "source": [
    "points = (\n",
    "    (8, 3),\n",
    "    (2, 10),\n",
    "    (11, 3),\n",
    "    (6, 6),\n",
    "    (5, 8),\n",
    "    (4, 12),\n",
    "    (12, 1),\n",
    "    (9, 4),\n",
    "    (6, 9),\n",
    "    (1, 14),\n",
    ")\n",
    "\n",
    "assert best_line(points) == (-1.11, 14.08)"
   ]
  },
  {
   "cell_type": "code",
   "execution_count": null,
   "metadata": {
    "deletable": false,
    "editable": false,
    "nbgrader": {
     "cell_type": "code",
     "checksum": "fdf441c9adfbbdacedb91a46b6f2ff52",
     "grade": true,
     "grade_id": "cell-e3b40327cdd21344",
     "locked": true,
     "points": 2,
     "schema_version": 3,
     "solution": false,
     "task": false
    }
   },
   "outputs": [],
   "source": []
  },
  {
   "cell_type": "code",
   "execution_count": null,
   "metadata": {},
   "outputs": [],
   "source": []
  }
 ],
 "metadata": {
  "kernelspec": {
   "display_name": "Python 3",
   "language": "python",
   "name": "python3"
  },
  "language_info": {
   "codemirror_mode": {
    "name": "ipython",
    "version": 3
   },
   "file_extension": ".py",
   "mimetype": "text/x-python",
   "name": "python",
   "nbconvert_exporter": "python",
   "pygments_lexer": "ipython3",
   "version": "3.6.9"
  }
 },
 "nbformat": 4,
 "nbformat_minor": 4
}
