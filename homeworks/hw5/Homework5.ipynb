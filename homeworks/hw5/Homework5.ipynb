{
 "cells": [
  {
   "cell_type": "markdown",
   "metadata": {},
   "source": [
    "Before you turn this problem in, make sure everything runs as expected. First, **restart the kernel** (in the menubar, select Kernel$\\rightarrow$Restart) and then **run all cells** (in the menubar, select Cell$\\rightarrow$Run All).\n",
    "\n",
    "Make sure you fill in any place that says `YOUR CODE HERE` or \"YOUR ANSWER HERE\", as well as your name and collaborators below:"
   ]
  },
  {
   "cell_type": "code",
   "execution_count": null,
   "metadata": {},
   "outputs": [],
   "source": [
    "NAME = \"Vaishnavi Vukku\"\n",
    "COLLABORATORS = \"Professor Zia\""
   ]
  },
  {
   "cell_type": "markdown",
   "metadata": {},
   "source": [
    "---"
   ]
  },
  {
   "cell_type": "markdown",
   "metadata": {
    "deletable": false,
    "editable": false,
    "nbgrader": {
     "cell_type": "markdown",
     "checksum": "0ae9116801f8d049444b56203e6b681f",
     "grade": false,
     "grade_id": "cell-7e8de527c14f3e17",
     "locked": true,
     "schema_version": 3,
     "solution": false,
     "task": false
    }
   },
   "source": [
    "# Ex 1 - Handling Exceptions (10 Points)\n",
    "In this problem you will read from a text file (**data_p2.txt**) included in the assignment. Please download it and store it in the same directory as this notebook. The code for reading data from the file is given below. You need to store the data and perform a simple mathematical operation on each data point. Each line is _supposed_ to contain a floating point number. But what you will observe is that some lines might have erroneous entries. You need to ignore those lines (Hint: Use `Exception` handling). \n",
    "\n",
    "The idea is to implement a function, `computeMedian()`, which reads in a file and computes the median of the numbers and returns the output. You may use the inbuilt function `sort` when computing the median.\n",
    "\n",
    "_DO NOT USE ANY INBUILT OR OTHER FUNCTION TO DIRECTLY COMPUTE MEDIAN_"
   ]
  },
  {
   "cell_type": "code",
   "execution_count": 1,
   "metadata": {
    "deletable": false,
    "nbgrader": {
     "cell_type": "code",
     "checksum": "bc3cbe2c3aa3aaee84668f7ab0c744c1",
     "grade": false,
     "grade_id": "cell-bedba72326b592e6",
     "locked": false,
     "schema_version": 3,
     "solution": true,
     "task": false
    }
   },
   "outputs": [],
   "source": [
    "# Reading from a file. The following code just reads in every line in a text file without doing anything with it.\n",
    "# You can use the code in your solution. DO NOT CALL this function in your implementation.\n",
    "def dummyFileReader():\n",
    "    with open('data_p2.txt','r') as f: #we open the file in 'read' mode. The 'with' clause is similar to 'finally' clause\n",
    "        for line in f: #iterate over the file line by line\n",
    "            s = line.strip() #strip() removes the endline character at the end of the line. Line is of type 'str'\n",
    "\n",
    "def computeMedian():\n",
    "    \"\"\"\n",
    "    The function has no input parameter, return median value of the list\n",
    "    \"\"\"\n",
    "    # YOUR CODE HERE\n",
    "    lines =[]\n",
    "    count = 0\n",
    "    with open('data_p2.txt','r') as f: #we open the file in 'read' mode. The 'with' clause is similar to 'finally' clause\n",
    "            for line in f:\n",
    "                s = line.strip()\n",
    "                try:\n",
    "                    lines.append(float(s))\n",
    "                except Exception:\n",
    "                    count = count + 1\n",
    "                    continue\n",
    "   \n",
    "    lines.sort()\n",
    "    if len(lines) % 2 == 0:\n",
    "        index = int(len(lines)/2)\n",
    "        median = (lines[index]+lines[index+1])/2\n",
    "    else:\n",
    "        index = int(len(lines)/2)\n",
    "        median = lines[index]\n",
    "        \n",
    "    return median\n"
   ]
  },
  {
   "cell_type": "code",
   "execution_count": 2,
   "metadata": {
    "deletable": false,
    "editable": false,
    "nbgrader": {
     "cell_type": "code",
     "checksum": "d1625ca4ef46fc9bc25230370191acf9",
     "grade": true,
     "grade_id": "cell-f8dcb1016008c0d8",
     "locked": true,
     "points": 10,
     "schema_version": 3,
     "solution": false,
     "task": false
    }
   },
   "outputs": [],
   "source": [
    "assert computeMedian() == 0.499675"
   ]
  },
  {
   "cell_type": "markdown",
   "metadata": {
    "deletable": false,
    "editable": false,
    "nbgrader": {
     "cell_type": "markdown",
     "checksum": "eef7f639c3d9a93c580d83f08b47d5f8",
     "grade": false,
     "grade_id": "cell-444a974f4b439ba5",
     "locked": true,
     "schema_version": 3,
     "solution": false,
     "task": false
    }
   },
   "source": [
    "# Ex 2 - The Two Envelopes Problem (15 Points)\n",
    "The Two Envelopes problem is an interesting decision theory problem.\n",
    "\n",
    "> Consider that you are given two indistinguishable envelopes, each containing money, one contains twice as much as the other. You may pick one envelope and keep the money it contains. Having chosen an envelope at will, but before inspecting it, you are given the chance to switch envelopes. Should you switch?\n",
    "\n",
    "> The game is this: \"stick\" or \"switch\"; It seems obvious that there is no point in switching envelopes as the situation is symmetric. However, because you stand to gain twice as much money if you switch while risking only a loss of half of what you currently have, it is possible to argue that it is more beneficial to switch. The problem is to show what is wrong with this argument.\n",
    "\n",
    "**Two Envelopes problem**: Implement a function, called `simulateProblem()`, that does the game simulation for the two envelopes problem. Run the simulation 10000 times to figure out the empirical (observed) probability of gaining more money when switching and gaining more money when sticking to the original choice. Each simulation operates as follows:\n",
    "1. First, randomly pick an envelopes configuration out of the two possible configurations, $(A,2A)$ or $(2A,A)$. In the first configuration, the second envelope has twice the money and in the second configuration, the first envelope has twice the money.\n",
    "2. Next, randomly pick one of the two envelopes. \n",
    "3. Finally, randomly choose to either stick or switch. The program checks if you won (the envelope that picked has more money) or not (the envelope that picked has less money). In case of winning, record if the winning was because of _sticking_ or _switching_.\n",
    "\n",
    "You can perform the _random_ choice as follows, using the `np.random.randint()` method.\n",
    "```python\n",
    "import numpy as np\n",
    "print(np.random.randint(2))\n",
    "```\n",
    "The `simulateProblem()` function takes no arguments and returns two values, first is a boolean output which is `True` if you win and `False` if you lose. In case of a win, the second output is `True` if the win was due to _sticking_ or the lose was due to _switching_ and `False` if the win was due to _switching_ or the lose was due to _sticking_.\n",
    "\n",
    "Once the method `simulateProblem()` that does the above steps and returns \"sticking\",or \"switching\", depending on the win/loss scenario, run the method 1000 times and count the number of times the win was due to _sticking_ to the pick in Step 2, and number of times the win was due to _switching_ the envelope."
   ]
  },
  {
   "cell_type": "code",
   "execution_count": 11,
   "metadata": {
    "deletable": false,
    "nbgrader": {
     "cell_type": "code",
     "checksum": "99f258f724d6c946b32bb8b0f6bf5e2b",
     "grade": false,
     "grade_id": "cell-9d6f62b5fca5a02a",
     "locked": false,
     "schema_version": 3,
     "solution": true,
     "task": false
    }
   },
   "outputs": [],
   "source": [
    "import numpy as np\n",
    "\n",
    "def simulateProblem():\n",
    "    # YOUR CODE HERE\n",
    "    first_pick = np.random.randint(2)\n",
    "    if first_pick == 0:\n",
    "        money = 'A'\n",
    "    else:\n",
    "        money = '2A'\n",
    "    second_pick = np.random.randint(2)\n",
    "    if second_pick == 0:\n",
    "        # method = 'switching'\n",
    "        if money == 'A':\n",
    "            output1 = True\n",
    "            output2 = False\n",
    "        else:\n",
    "            output1 = False\n",
    "            output2 = True\n",
    "    else:\n",
    "        # method = 'sticking'\n",
    "        if money == '2A':\n",
    "            output1 = True\n",
    "            output2 = True\n",
    "        else:\n",
    "            output1 = False\n",
    "            output2 = False\n",
    "        \n",
    "    return output1, output2"
   ]
  },
  {
   "cell_type": "code",
   "execution_count": 12,
   "metadata": {
    "deletable": false,
    "editable": false,
    "nbgrader": {
     "cell_type": "code",
     "checksum": "a82400458f769a32a21d6f71fd400436",
     "grade": true,
     "grade_id": "cell-90a1674a5478ea01",
     "locked": true,
     "points": 5,
     "schema_version": 3,
     "solution": false,
     "task": false
    }
   },
   "outputs": [],
   "source": [
    "assert type(simulateProblem()[0]) == bool\n",
    "assert type(simulateProblem()[1]) == bool"
   ]
  },
  {
   "cell_type": "code",
   "execution_count": 15,
   "metadata": {
    "deletable": false,
    "nbgrader": {
     "cell_type": "code",
     "checksum": "5cee56cee4dbfac5be4b2d33db51661e",
     "grade": false,
     "grade_id": "cell-53333d2767feff38",
     "locked": false,
     "schema_version": 3,
     "solution": true,
     "task": false
    }
   },
   "outputs": [],
   "source": [
    "def run_simulation():\n",
    "    \"\"\"\n",
    "    The function Run the simulation 10000 times to figure out \n",
    "    the empirical (observed) probability of gaining more money when switching \n",
    "    and gaining more money when sticking to the original choice.\n",
    "    Return the probability of win due to sticking and win due to switching\n",
    "    \"\"\"\n",
    "    # YOUR CODE HERE\n",
    "    count_win_switch = 0\n",
    "    count_win_stick = 0\n",
    "    for i in range(10000):\n",
    "        output1 = simulateProblem()[0]\n",
    "        output2 = simulateProblem()[1]\n",
    "        if output1 == True and output2 == False:\n",
    "            count_win_switch += 1\n",
    "        elif output1 == True and output2 == True:\n",
    "            count_win_stick += 1\n",
    "        else:\n",
    "            continue\n",
    "    prob_win_stick = count_win_stick/10000\n",
    "    prob_win_switch = count_win_switch/10000\n",
    "\n",
    "    return prob_win_stick, prob_win_switch"
   ]
  },
  {
   "cell_type": "code",
   "execution_count": 16,
   "metadata": {
    "deletable": false,
    "editable": false,
    "nbgrader": {
     "cell_type": "code",
     "checksum": "1279f958db2c300d50e44a0a3bd1633b",
     "grade": true,
     "grade_id": "cell-58e223a147cfcd13",
     "locked": true,
     "points": 10,
     "schema_version": 3,
     "solution": false,
     "task": false
    }
   },
   "outputs": [],
   "source": [
    "\n",
    "win_due_to_sticking, win_due_to_switching = run_simulation()\n",
    "assert(abs(win_due_to_sticking-0.25) < 0.05)\n",
    "assert(abs(win_due_to_switching-0.25) < 0.05)"
   ]
  },
  {
   "cell_type": "markdown",
   "metadata": {
    "deletable": false,
    "editable": false,
    "nbgrader": {
     "cell_type": "markdown",
     "checksum": "59e456ea71c908da98bd22fe50b222c8",
     "grade": false,
     "grade_id": "cell-d5e6f51da24b783c",
     "locked": true,
     "schema_version": 3,
     "solution": false,
     "task": false
    }
   },
   "source": [
    "# Ex 3 - Iterator Class (15 Points)"
   ]
  },
  {
   "cell_type": "code",
   "execution_count": 17,
   "metadata": {
    "deletable": false,
    "nbgrader": {
     "cell_type": "code",
     "checksum": "d50c8d4a3ac3d72cd3a936bcc06592b1",
     "grade": false,
     "grade_id": "cell-25b2c8ef33953045",
     "locked": false,
     "schema_version": 3,
     "solution": true,
     "task": false
    }
   },
   "outputs": [],
   "source": [
    "# EX3\n",
    "\n",
    "class IteratorClass:\n",
    "    ## Complete this class! It takes in three inputs when initializing. \n",
    "    # input#1 x -- is a sequence, either a list or a tuple. Raise a ValueError if it is not a list or a tuple\n",
    "    # input#2 y -- is a sequence, either a list or a tuple. Raise a ValueError if it is not a list or a tuple\n",
    "    # input#3 operator -- is a string that can either be 'add', 'sub', 'mul', 'div' -- If the specified operator\n",
    "    # is not one of these, raise a ValueError. \n",
    "    \n",
    "    # Complete the class by writing functions that will turn it into an iterator class. \n",
    "    # https://www.programiz.com/python-programming/methods/built-in/iter\n",
    "    # The purpose of the class is to take two lists(x and y), apply the specified operator and return the output\n",
    "    # as an iterator, meaning you can do \"for ele in IteratorClass(x,y,'add')\"\n",
    "    \n",
    "    \n",
    "    # YOUR CODE HERE\n",
    "    def __init__(self, x, y, operator):\n",
    "        self.x = x\n",
    "        self.y = y\n",
    "        self.operator = operator\n",
    "        \n",
    "        if type(self.x) not in [list,tuple]:\n",
    "            raise ValueError('It is not a list or tuple')\n",
    "        if type(self.y) not in [list,tuple]:\n",
    "            raise ValueError('It is not a list or tuple')\n",
    "        if self.operator not in ['add', 'sub', 'mul', 'div']:\n",
    "            raise ValueError(\"It is not a 'add', 'sub', 'mul', 'div' operators\")\n",
    "    def __iter__(self):\n",
    "        self.num = 0\n",
    "        return self\n",
    "    def __next__(self):\n",
    "         if(self.num < len(self.x)):\n",
    "            if(self.operator == 'add'):\n",
    "                result = self.x[self.num] + self.y[self.num]\n",
    "            elif(self.operator == 'sub'):\n",
    "                result =  self.x[self.num] - self.y[self.num]\n",
    "            elif(self.operator == 'mul'):\n",
    "                result = self.x[self.num] * self.y[self.num]\n",
    "            else:\n",
    "                result = round(self.x[self.num]/self.y[self.num],2)\n",
    "            self.num = self.num + 1\n",
    "            return result\n",
    "         else:\n",
    "                raise StopIteration\n",
    "    \n",
    "    \n"
   ]
  },
  {
   "cell_type": "code",
   "execution_count": 18,
   "metadata": {
    "deletable": false,
    "editable": false,
    "nbgrader": {
     "cell_type": "code",
     "checksum": "ad154317376ddc9976159d2e7a02f390",
     "grade": true,
     "grade_id": "cell-e6fd6bbad085396e",
     "locked": true,
     "points": 5,
     "schema_version": 3,
     "solution": false,
     "task": false
    }
   },
   "outputs": [],
   "source": [
    "from nose.tools import assert_raises\n",
    "assert_raises(ValueError, IteratorClass, range(5,10), [1,2,3], 'div')\n",
    "assert_raises(ValueError, IteratorClass, [1,2,3], range(5,10), 'div')\n",
    "assert_raises(ValueError, IteratorClass, [1,2,3], [1,2,3], 'abc')"
   ]
  },
  {
   "cell_type": "code",
   "execution_count": 19,
   "metadata": {
    "deletable": false,
    "editable": false,
    "nbgrader": {
     "cell_type": "code",
     "checksum": "274fe07bdcded5c75537070d7bb0a273",
     "grade": true,
     "grade_id": "cell-b148b6133277ed24",
     "locked": true,
     "points": 10,
     "schema_version": 3,
     "solution": false,
     "task": false
    }
   },
   "outputs": [],
   "source": [
    "x = list(range(5,10))\n",
    "y = list(range(50,55))\n",
    "\n",
    "add_iterator = IteratorClass(x,y,'add')\n",
    "sub_iterator = IteratorClass(x,y,'sub')\n",
    "mul_iterator = IteratorClass(x,y,'mul')\n",
    "div_iterator = IteratorClass(x,y,'div')\n",
    "\n",
    "assert [ele for ele in add_iterator] == [55, 57, 59, 61, 63]\n",
    "assert [ele for ele in sub_iterator] == [-45, -45, -45, -45, -45]\n",
    "assert [ele for ele in mul_iterator] == [250, 306, 364, 424, 486]\n",
    "assert [ele for ele in div_iterator] == [0.1, 0.12, 0.13, 0.15, 0.17]"
   ]
  },
  {
   "cell_type": "code",
   "execution_count": null,
   "metadata": {},
   "outputs": [],
   "source": []
  }
 ],
 "metadata": {
  "kernelspec": {
   "display_name": "Python 3",
   "language": "python",
   "name": "python3"
  },
  "language_info": {
   "codemirror_mode": {
    "name": "ipython",
    "version": 3
   },
   "file_extension": ".py",
   "mimetype": "text/x-python",
   "name": "python",
   "nbconvert_exporter": "python",
   "pygments_lexer": "ipython3",
   "version": "3.6.9"
  }
 },
 "nbformat": 4,
 "nbformat_minor": 4
}
