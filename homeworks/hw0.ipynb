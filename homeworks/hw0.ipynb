{
 "cells": [
  {
   "cell_type": "markdown",
   "metadata": {},
   "source": [
    "Before you turn this problem in, make sure everything runs as expected. First, **restart the kernel** (in the menubar, select Kernel$\\rightarrow$Restart) and then **run all cells** (in the menubar, select Cell$\\rightarrow$Run All).\n",
    "\n",
    "Make sure you fill in any place that says `YOUR CODE HERE` or \"YOUR ANSWER HERE\", as well as your name and collaborators below:"
   ]
  },
  {
   "cell_type": "code",
   "execution_count": null,
   "metadata": {},
   "outputs": [],
   "source": [
    "NAME = \"Vaishnavi Vukku\"\n",
    "COLLABORATORS = \"Professor Zia\""
   ]
  },
  {
   "cell_type": "markdown",
   "metadata": {},
   "source": [
    "---"
   ]
  },
  {
   "cell_type": "code",
   "execution_count": null,
   "metadata": {
    "deletable": false,
    "nbgrader": {
     "cell_type": "code",
     "checksum": "f134a8a2f014960bbd0e7979350087a9",
     "grade": false,
     "grade_id": "cell-ffc62b512fc653d1",
     "locked": false,
     "schema_version": 3,
     "solution": true,
     "task": false
    }
   },
   "outputs": [],
   "source": [
    "# 2 points\n",
    "def return_true():\n",
    "\n",
    "    # return the value True\n",
    "    return True"
   ]
  },
  {
   "cell_type": "code",
   "execution_count": null,
   "metadata": {
    "deletable": false,
    "editable": false,
    "nbgrader": {
     "cell_type": "code",
     "checksum": "9918b9552ff6e03fcd6dcde0eeb679d5",
     "grade": true,
     "grade_id": "cell-db4ecc495cb0c800",
     "locked": true,
     "points": 2,
     "schema_version": 3,
     "solution": false,
     "task": false
    }
   },
   "outputs": [],
   "source": [
    "assert return_true() == True"
   ]
  },
  {
   "cell_type": "code",
   "execution_count": null,
   "metadata": {
    "deletable": false,
    "nbgrader": {
     "cell_type": "code",
     "checksum": "229da13c9e58b3744e392089bbe9b914",
     "grade": false,
     "grade_id": "cell-c3f516fe563bd902",
     "locked": false,
     "schema_version": 3,
     "solution": true,
     "task": false
    }
   },
   "outputs": [],
   "source": [
    "# 2 points\n",
    "def return_false():\n",
    "\n",
    "    # return the value False\n",
    "    return False"
   ]
  },
  {
   "cell_type": "code",
   "execution_count": null,
   "metadata": {
    "deletable": false,
    "editable": false,
    "nbgrader": {
     "cell_type": "code",
     "checksum": "aa9c856e69c763eb9c3d5ee25775ad99",
     "grade": true,
     "grade_id": "cell-be625703ceffd662",
     "locked": true,
     "points": 2,
     "schema_version": 3,
     "solution": false,
     "task": false
    }
   },
   "outputs": [],
   "source": [
    "assert return_false() == False"
   ]
  },
  {
   "cell_type": "code",
   "execution_count": null,
   "metadata": {
    "deletable": false,
    "nbgrader": {
     "cell_type": "code",
     "checksum": "dad5c35c11a41ef34bfdd8af3e2f675b",
     "grade": false,
     "grade_id": "cell-72a401bac23e1f13",
     "locked": false,
     "schema_version": 3,
     "solution": true,
     "task": false
    }
   },
   "outputs": [],
   "source": [
    "# 2 points\n",
    "def return_int_10():\n",
    "    # return 10\n",
    "    return 10"
   ]
  },
  {
   "cell_type": "code",
   "execution_count": null,
   "metadata": {
    "deletable": false,
    "editable": false,
    "nbgrader": {
     "cell_type": "code",
     "checksum": "de38fbfad8b97205776d68d008d37432",
     "grade": true,
     "grade_id": "cell-c6f27b6b2157dfaf",
     "locked": true,
     "points": 2,
     "schema_version": 3,
     "solution": false,
     "task": false
    }
   },
   "outputs": [],
   "source": [
    "assert return_int_10() == 10"
   ]
  },
  {
   "cell_type": "code",
   "execution_count": null,
   "metadata": {
    "deletable": false,
    "nbgrader": {
     "cell_type": "code",
     "checksum": "f2d0fb80cfd4f6f9bd7f616b69db1eb0",
     "grade": false,
     "grade_id": "cell-064dabbc809caed3",
     "locked": false,
     "schema_version": 3,
     "solution": true,
     "task": false
    }
   },
   "outputs": [],
   "source": [
    "# 2 points\n",
    "def return_float_3_point_5():\n",
    "    # return 3.5\n",
    "    # YOUR CODE HERE\n",
    "    return 3.5"
   ]
  },
  {
   "cell_type": "code",
   "execution_count": null,
   "metadata": {
    "deletable": false,
    "editable": false,
    "nbgrader": {
     "cell_type": "code",
     "checksum": "95b8d1611c16072cdeeccd8670b35f01",
     "grade": true,
     "grade_id": "cell-fa8aca754b6c7261",
     "locked": true,
     "points": 2,
     "schema_version": 3,
     "solution": false,
     "task": false
    }
   },
   "outputs": [],
   "source": [
    "assert return_float_3_point_5() == 3.5"
   ]
  },
  {
   "cell_type": "code",
   "execution_count": null,
   "metadata": {
    "deletable": false,
    "nbgrader": {
     "cell_type": "code",
     "checksum": "83afd9bc820ebe1e521c4ef28bc742b7",
     "grade": false,
     "grade_id": "cell-25b3cc99451f7294",
     "locked": false,
     "schema_version": 3,
     "solution": true,
     "task": false
    }
   },
   "outputs": [],
   "source": [
    "# 2 points\n",
    "def return_letter_a():\n",
    "    # return the letter a\n",
    "    # YOUR CODE HERE\n",
    "    return 'a'"
   ]
  },
  {
   "cell_type": "code",
   "execution_count": null,
   "metadata": {
    "deletable": false,
    "editable": false,
    "nbgrader": {
     "cell_type": "code",
     "checksum": "8d3abd7c396aeff0ca2e2eb1e4f81588",
     "grade": true,
     "grade_id": "cell-44511ac54c8c7745",
     "locked": true,
     "points": 2,
     "schema_version": 3,
     "solution": false,
     "task": false
    }
   },
   "outputs": [],
   "source": [
    "assert return_letter_a() == 'a'"
   ]
  },
  {
   "cell_type": "code",
   "execution_count": null,
   "metadata": {
    "deletable": false,
    "nbgrader": {
     "cell_type": "code",
     "checksum": "efe991e8f302781d5362430374933590",
     "grade": false,
     "grade_id": "cell-af57e884088461ab",
     "locked": false,
     "schema_version": 3,
     "solution": true,
     "task": false
    }
   },
   "outputs": [],
   "source": [
    "# 2 points\n",
    "def return_string_EAS503():\n",
    "    # return the string 'EAS503'\n",
    "    # YOUR CODE HERE\n",
    "    return 'EAS503'"
   ]
  },
  {
   "cell_type": "code",
   "execution_count": null,
   "metadata": {
    "deletable": false,
    "editable": false,
    "nbgrader": {
     "cell_type": "code",
     "checksum": "a7dcb53538d6965b100339a4aeb11fad",
     "grade": true,
     "grade_id": "cell-cd85487f6b849359",
     "locked": true,
     "points": 2,
     "schema_version": 3,
     "solution": false,
     "task": false
    }
   },
   "outputs": [],
   "source": [
    "assert return_string_EAS503() == 'EAS503'"
   ]
  },
  {
   "cell_type": "code",
   "execution_count": null,
   "metadata": {
    "deletable": false,
    "nbgrader": {
     "cell_type": "code",
     "checksum": "4dc685a8a031bb97f0e7f00350499990",
     "grade": false,
     "grade_id": "cell-b0eb174c1e273684",
     "locked": false,
     "schema_version": 3,
     "solution": true,
     "task": false
    }
   },
   "outputs": [],
   "source": [
    "# 2 points\n",
    "def exercise_1():\n",
    "    # True or False: Buffalo is in New York.\n",
    "    # Return True or False\n",
    "    # YOUR CODE HERE\n",
    "    return True\n"
   ]
  },
  {
   "cell_type": "code",
   "execution_count": null,
   "metadata": {
    "deletable": false,
    "editable": false,
    "nbgrader": {
     "cell_type": "code",
     "checksum": "7ba5899893e20952b6d3a94b5d911078",
     "grade": true,
     "grade_id": "cell-5c3de8d19d903ba1",
     "locked": true,
     "points": 2,
     "schema_version": 3,
     "solution": false,
     "task": false
    }
   },
   "outputs": [],
   "source": []
  },
  {
   "cell_type": "code",
   "execution_count": null,
   "metadata": {
    "deletable": false,
    "nbgrader": {
     "cell_type": "code",
     "checksum": "d540677baae547c8a2f3654f9fd3a6bf",
     "grade": false,
     "grade_id": "cell-b113c4c178b745c9",
     "locked": false,
     "schema_version": 3,
     "solution": true,
     "task": false
    }
   },
   "outputs": [],
   "source": [
    "# 2 points\n",
    "def exercise_2():\n",
    "\n",
    "    # True or False: New York is the largest state in the United States\n",
    "    # Return True or False\n",
    "    # YOUR CODE HERE\n",
    "    return False"
   ]
  },
  {
   "cell_type": "code",
   "execution_count": null,
   "metadata": {
    "deletable": false,
    "editable": false,
    "nbgrader": {
     "cell_type": "code",
     "checksum": "e92e11f4a6dca7a2942eb742b8d422d6",
     "grade": true,
     "grade_id": "cell-4112ce1ca5f9ab79",
     "locked": true,
     "points": 2,
     "schema_version": 3,
     "solution": false,
     "task": false
    }
   },
   "outputs": [],
   "source": []
  },
  {
   "cell_type": "code",
   "execution_count": null,
   "metadata": {
    "deletable": false,
    "nbgrader": {
     "cell_type": "code",
     "checksum": "cd3b595af13d6d314de41dd5dfc66064",
     "grade": false,
     "grade_id": "cell-70844679487f0ed9",
     "locked": false,
     "schema_version": 3,
     "solution": true,
     "task": false
    }
   },
   "outputs": [],
   "source": [
    "# 2 points\n",
    "def exercise_3():\n",
    "\n",
    "    # Which of the following in an incorrect Python variable name? Return a letter.\n",
    "    # (a) -- test1234\n",
    "    # (b) -- 3pi\n",
    "    # (c) -- __factor\n",
    "    # (d) -- mean__value__2\n",
    "\n",
    "    # YOUR CODE HERE\n",
    "    return 'b'\n"
   ]
  },
  {
   "cell_type": "code",
   "execution_count": null,
   "metadata": {
    "deletable": false,
    "editable": false,
    "nbgrader": {
     "cell_type": "code",
     "checksum": "55839d4ef0be096b54dd829728257d74",
     "grade": true,
     "grade_id": "cell-e6b034753bf4cae5",
     "locked": true,
     "points": 2,
     "schema_version": 3,
     "solution": false,
     "task": false
    }
   },
   "outputs": [],
   "source": []
  },
  {
   "cell_type": "code",
   "execution_count": null,
   "metadata": {
    "deletable": false,
    "nbgrader": {
     "cell_type": "code",
     "checksum": "6a4b87feab70fd466bdaf5075996c727",
     "grade": false,
     "grade_id": "cell-b8915a0c6180c522",
     "locked": false,
     "schema_version": 3,
     "solution": true,
     "task": false
    }
   },
   "outputs": [],
   "source": [
    "# 2 points\n",
    "def exercise_4():\n",
    "\n",
    "    # square 3 and 4 and return the their summed value\n",
    "    # YOUR CODE HERE\n",
    "    return (3**2)+(4**2) "
   ]
  },
  {
   "cell_type": "code",
   "execution_count": null,
   "metadata": {
    "deletable": false,
    "editable": false,
    "nbgrader": {
     "cell_type": "code",
     "checksum": "179fb4fbeb697a079fd85ccc4918d5e6",
     "grade": true,
     "grade_id": "cell-7ca0f8416918497b",
     "locked": true,
     "points": 2,
     "schema_version": 3,
     "solution": false,
     "task": false
    }
   },
   "outputs": [],
   "source": []
  },
  {
   "cell_type": "code",
   "execution_count": null,
   "metadata": {
    "deletable": false,
    "nbgrader": {
     "cell_type": "code",
     "checksum": "e6935423ca77c5dab558ba7caf1b9062",
     "grade": false,
     "grade_id": "cell-dee7aa8efbfa5656",
     "locked": false,
     "schema_version": 3,
     "solution": true,
     "task": false
    }
   },
   "outputs": [],
   "source": [
    "# 2 points\n",
    "def exercise_5():\n",
    "\n",
    "    # divide 2020 by 5 and return the value\n",
    "    # YOUR CODE HERE\n",
    "    return (2020/5)"
   ]
  },
  {
   "cell_type": "code",
   "execution_count": null,
   "metadata": {
    "deletable": false,
    "editable": false,
    "nbgrader": {
     "cell_type": "code",
     "checksum": "0652b7bd5b3d65f249f98daaeec30b7a",
     "grade": true,
     "grade_id": "cell-1e2e40e16c6f331b",
     "locked": true,
     "points": 2,
     "schema_version": 3,
     "solution": false,
     "task": false
    }
   },
   "outputs": [],
   "source": []
  },
  {
   "cell_type": "code",
   "execution_count": null,
   "metadata": {
    "deletable": false,
    "nbgrader": {
     "cell_type": "code",
     "checksum": "f5a01ed638d7b28bf4792e0bfc4d07df",
     "grade": false,
     "grade_id": "cell-82ebd1a17cb3daa6",
     "locked": false,
     "schema_version": 3,
     "solution": true,
     "task": false
    }
   },
   "outputs": [],
   "source": [
    "# 2 points\n",
    "def exercise_6():\n",
    "\n",
    "    # return the remainder of 512 divided by 16\n",
    "    # YOUR CODE HERE\n",
    "    return 512%16"
   ]
  },
  {
   "cell_type": "code",
   "execution_count": null,
   "metadata": {
    "deletable": false,
    "editable": false,
    "nbgrader": {
     "cell_type": "code",
     "checksum": "1cf84c47a37b12bc025e92e6c7178d76",
     "grade": true,
     "grade_id": "cell-c2c35898d5d590cf",
     "locked": true,
     "points": 2,
     "schema_version": 3,
     "solution": false,
     "task": false
    }
   },
   "outputs": [],
   "source": []
  },
  {
   "cell_type": "code",
   "execution_count": null,
   "metadata": {
    "deletable": false,
    "nbgrader": {
     "cell_type": "code",
     "checksum": "9b8c840705d7c982b42fd2f6a495452f",
     "grade": false,
     "grade_id": "cell-31daed1e483a7192",
     "locked": false,
     "schema_version": 3,
     "solution": true,
     "task": false
    }
   },
   "outputs": [],
   "source": [
    "# 2 points\n",
    "def exercise_7():\n",
    "\n",
    "    # return 36 divided by 5\n",
    "    # YOUR CODE HERE\n",
    "    return 36/5"
   ]
  },
  {
   "cell_type": "code",
   "execution_count": null,
   "metadata": {
    "deletable": false,
    "editable": false,
    "nbgrader": {
     "cell_type": "code",
     "checksum": "1be59add80a249d5720644967e53fbfa",
     "grade": true,
     "grade_id": "cell-36c85be2031c91d5",
     "locked": true,
     "points": 2,
     "schema_version": 3,
     "solution": false,
     "task": false
    }
   },
   "outputs": [],
   "source": []
  },
  {
   "cell_type": "code",
   "execution_count": null,
   "metadata": {
    "deletable": false,
    "nbgrader": {
     "cell_type": "code",
     "checksum": "9fc53b9fde3f06148491540efae8ee7a",
     "grade": false,
     "grade_id": "cell-32aa3c2a01590949",
     "locked": false,
     "schema_version": 3,
     "solution": true,
     "task": false
    }
   },
   "outputs": [],
   "source": [
    "# 2 points\n",
    "def exercise_8():\n",
    "\n",
    "    # return 36 divided by 5, BUT return only the quotient without the remainder\n",
    "    # YOUR CODE HERE\n",
    "    return 36//5"
   ]
  },
  {
   "cell_type": "code",
   "execution_count": null,
   "metadata": {
    "deletable": false,
    "editable": false,
    "nbgrader": {
     "cell_type": "code",
     "checksum": "62e841bbbb9c90b0a300268464db02fd",
     "grade": true,
     "grade_id": "cell-39b01facd75ef9d1",
     "locked": true,
     "points": 2,
     "schema_version": 3,
     "solution": false,
     "task": false
    }
   },
   "outputs": [],
   "source": []
  },
  {
   "cell_type": "code",
   "execution_count": null,
   "metadata": {
    "deletable": false,
    "nbgrader": {
     "cell_type": "code",
     "checksum": "120ffe0ea66ba9716b55a5cfe06964a4",
     "grade": false,
     "grade_id": "cell-3df5e0dd68d4e331",
     "locked": false,
     "schema_version": 3,
     "solution": true,
     "task": false
    }
   },
   "outputs": [],
   "source": [
    "# 2 points\n",
    "def exercise_9():\n",
    "\n",
    "    # return the area of a circle with radius 6\n",
    "    # use the pi value given\n",
    "    pi = 3.14\n",
    "    # YOUR CODE HERE\n",
    "    return pi*(6**2)"
   ]
  },
  {
   "cell_type": "code",
   "execution_count": null,
   "metadata": {
    "deletable": false,
    "editable": false,
    "nbgrader": {
     "cell_type": "code",
     "checksum": "d7c7e3034f1280b9468ec6996d837a50",
     "grade": true,
     "grade_id": "cell-f023ed9880e092a5",
     "locked": true,
     "points": 2,
     "schema_version": 3,
     "solution": false,
     "task": false
    }
   },
   "outputs": [],
   "source": []
  },
  {
   "cell_type": "code",
   "execution_count": null,
   "metadata": {
    "deletable": false,
    "nbgrader": {
     "cell_type": "code",
     "checksum": "e2f865c3c54a2de0e76b4c654d8ae3b3",
     "grade": false,
     "grade_id": "cell-07c06c3677239fa3",
     "locked": false,
     "schema_version": 3,
     "solution": true,
     "task": false
    }
   },
   "outputs": [],
   "source": [
    "# 2 points\n",
    "def exercise_10():\n",
    "\n",
    "    # Given the temperature in fahrenheit (temperature_in_f), return the temperature in celcius\n",
    "    temperature_in_f = 67\n",
    "    # YOUR CODE HERE\n",
    "    return (temperature_in_f - 32) * 5 / 9\n"
   ]
  },
  {
   "cell_type": "code",
   "execution_count": null,
   "metadata": {
    "deletable": false,
    "editable": false,
    "nbgrader": {
     "cell_type": "code",
     "checksum": "9ae386bd3ffe306b2ad837f1f5a0a0e6",
     "grade": true,
     "grade_id": "cell-515208d881ded972",
     "locked": true,
     "points": 2,
     "schema_version": 3,
     "solution": false,
     "task": false
    }
   },
   "outputs": [],
   "source": []
  },
  {
   "cell_type": "code",
   "execution_count": null,
   "metadata": {
    "deletable": false,
    "nbgrader": {
     "cell_type": "code",
     "checksum": "03acf94e9d977b5746e7e08736195cf0",
     "grade": false,
     "grade_id": "cell-de3bf51b813aea3d",
     "locked": false,
     "schema_version": 3,
     "solution": true,
     "task": false
    }
   },
   "outputs": [],
   "source": [
    "# 2 points\n",
    "def exercise_11():\n",
    "\n",
    "    # Given the string 'EAS503', return the letter E using the square-bracket syntax\n",
    "\n",
    "    class_name = 'EAS503'\n",
    "    # YOUR CODE HERE\n",
    "    return class_name[0]"
   ]
  },
  {
   "cell_type": "code",
   "execution_count": null,
   "metadata": {
    "deletable": false,
    "editable": false,
    "nbgrader": {
     "cell_type": "code",
     "checksum": "6d7184a0dcd83fe4eccea527c2f95601",
     "grade": true,
     "grade_id": "cell-11a0b4cf97edc78b",
     "locked": true,
     "points": 2,
     "schema_version": 3,
     "solution": false,
     "task": false
    }
   },
   "outputs": [],
   "source": []
  },
  {
   "cell_type": "code",
   "execution_count": null,
   "metadata": {
    "deletable": false,
    "nbgrader": {
     "cell_type": "code",
     "checksum": "afdafbe76dc6d6a1e526d1df0073d7c2",
     "grade": false,
     "grade_id": "cell-dd966809ddfe4f98",
     "locked": false,
     "schema_version": 3,
     "solution": true,
     "task": false
    }
   },
   "outputs": [],
   "source": [
    "# 2 points\n",
    "def exercise_12():\n",
    "\n",
    "    # Given the string 'EAS503', return the letter S using the square-bracket syntax\n",
    "\n",
    "    class_name = 'EAS503'\n",
    "    # YOUR CODE HERE\n",
    "    return class_name[2]"
   ]
  },
  {
   "cell_type": "code",
   "execution_count": null,
   "metadata": {
    "deletable": false,
    "editable": false,
    "nbgrader": {
     "cell_type": "code",
     "checksum": "4a4457de2f212238ca1160ee570946e4",
     "grade": true,
     "grade_id": "cell-10cb53d5f5c19b9d",
     "locked": true,
     "points": 2,
     "schema_version": 3,
     "solution": false,
     "task": false
    }
   },
   "outputs": [],
   "source": []
  },
  {
   "cell_type": "code",
   "execution_count": null,
   "metadata": {
    "deletable": false,
    "nbgrader": {
     "cell_type": "code",
     "checksum": "b3e395060db1dfcb5d9cf45b0877aa68",
     "grade": false,
     "grade_id": "cell-df92f9ba306b9349",
     "locked": false,
     "schema_version": 3,
     "solution": true,
     "task": false
    }
   },
   "outputs": [],
   "source": [
    "# 2 points\n",
    "def exercise_13():\n",
    "\n",
    "    # Given the string 'EAS503', return the last character in the string using the square-bracket syntax\n",
    "\n",
    "    class_name = 'EAS503'\n",
    "    # YOUR CODE HERE\n",
    "    return class_name[-1]"
   ]
  },
  {
   "cell_type": "code",
   "execution_count": null,
   "metadata": {
    "deletable": false,
    "editable": false,
    "nbgrader": {
     "cell_type": "code",
     "checksum": "0d44f8a2e4eed702c07e061428f97200",
     "grade": true,
     "grade_id": "cell-ceae1a5979d88643",
     "locked": true,
     "points": 2,
     "schema_version": 3,
     "solution": false,
     "task": false
    }
   },
   "outputs": [],
   "source": []
  },
  {
   "cell_type": "code",
   "execution_count": null,
   "metadata": {
    "deletable": false,
    "nbgrader": {
     "cell_type": "code",
     "checksum": "093c0e284223a477e6df8dc7c6c443f1",
     "grade": false,
     "grade_id": "cell-dedafbc207653618",
     "locked": false,
     "schema_version": 3,
     "solution": true,
     "task": false
    }
   },
   "outputs": [],
   "source": [
    "# 2 points\n",
    "def exercise_14():\n",
    "\n",
    "    # Given a float value, convert it to an int type and return the value\n",
    "\n",
    "    a_float_value = 3.14159\n",
    "    # YOUR CODE HERE\n",
    "    return int(a_float_value)"
   ]
  },
  {
   "cell_type": "code",
   "execution_count": null,
   "metadata": {
    "deletable": false,
    "editable": false,
    "nbgrader": {
     "cell_type": "code",
     "checksum": "d5a45a8dedcba08d3db1b2011f603634",
     "grade": true,
     "grade_id": "cell-81fdef9b15964916",
     "locked": true,
     "points": 2,
     "schema_version": 3,
     "solution": false,
     "task": false
    }
   },
   "outputs": [],
   "source": []
  },
  {
   "cell_type": "code",
   "execution_count": null,
   "metadata": {
    "deletable": false,
    "nbgrader": {
     "cell_type": "code",
     "checksum": "a806e0e768540747fd09c72251a7fe6c",
     "grade": false,
     "grade_id": "cell-f61bafc71e2e3a49",
     "locked": false,
     "schema_version": 3,
     "solution": true,
     "task": false
    }
   },
   "outputs": [],
   "source": [
    "# 2 points\n",
    "def exercise_15():\n",
    "\n",
    "    # Pi is given in string data type, return it in float data type\n",
    "\n",
    "    pi_string = '3.14159'\n",
    "    # YOUR CODE HERE\n",
    "    return float(pi_string)"
   ]
  },
  {
   "cell_type": "code",
   "execution_count": null,
   "metadata": {
    "deletable": false,
    "editable": false,
    "nbgrader": {
     "cell_type": "code",
     "checksum": "5203503f3f872c1318466727db28ae1e",
     "grade": true,
     "grade_id": "cell-45d4a5e676072c51",
     "locked": true,
     "points": 2,
     "schema_version": 3,
     "solution": false,
     "task": false
    }
   },
   "outputs": [],
   "source": []
  },
  {
   "cell_type": "code",
   "execution_count": null,
   "metadata": {
    "deletable": false,
    "nbgrader": {
     "cell_type": "code",
     "checksum": "5af5fd045ab80b08d749d5f3aa79daf4",
     "grade": false,
     "grade_id": "cell-0d9832761fa4db55",
     "locked": false,
     "schema_version": 3,
     "solution": true,
     "task": false
    }
   },
   "outputs": [],
   "source": [
    "# 2 points\n",
    "def exercise_16():\n",
    "\n",
    "    # Return the data type of the variable test_variable\n",
    "\n",
    "    test_variable = '3.14159'\n",
    "    # YOUR CODE HERE\n",
    "    return type(test_variable)"
   ]
  },
  {
   "cell_type": "code",
   "execution_count": null,
   "metadata": {
    "deletable": false,
    "editable": false,
    "nbgrader": {
     "cell_type": "code",
     "checksum": "2c1a1909717f41b80547b8dcbf8deb1f",
     "grade": true,
     "grade_id": "cell-504d1df50b3463ea",
     "locked": true,
     "points": 2,
     "schema_version": 3,
     "solution": false,
     "task": false
    }
   },
   "outputs": [],
   "source": []
  },
  {
   "cell_type": "code",
   "execution_count": null,
   "metadata": {
    "deletable": false,
    "nbgrader": {
     "cell_type": "code",
     "checksum": "b29b1c2b97d9c39e4c03643710f55289",
     "grade": false,
     "grade_id": "cell-5e67f16c93a4fb62",
     "locked": false,
     "schema_version": 3,
     "solution": true,
     "task": false
    }
   },
   "outputs": [],
   "source": [
    "# 2 points\n",
    "def exercise_17():\n",
    "\n",
    "    # Return the data type of the variable test_variable\n",
    "\n",
    "    test_variable = 3.14159\n",
    "    # YOUR CODE HERE\n",
    "    return type(test_variable)"
   ]
  },
  {
   "cell_type": "code",
   "execution_count": null,
   "metadata": {
    "deletable": false,
    "editable": false,
    "nbgrader": {
     "cell_type": "code",
     "checksum": "2e860da6d8d8f6a280189872a7c2c78a",
     "grade": true,
     "grade_id": "cell-478224f7f29170f8",
     "locked": true,
     "points": 2,
     "schema_version": 3,
     "solution": false,
     "task": false
    }
   },
   "outputs": [],
   "source": []
  },
  {
   "cell_type": "code",
   "execution_count": null,
   "metadata": {
    "deletable": false,
    "nbgrader": {
     "cell_type": "code",
     "checksum": "58d1c987eea7f17312fb2e3e4b133c51",
     "grade": false,
     "grade_id": "cell-7d69a0f8377a7b37",
     "locked": false,
     "schema_version": 3,
     "solution": true,
     "task": false
    }
   },
   "outputs": [],
   "source": [
    "# 2 points\n",
    "def exercise_18():\n",
    "\n",
    "    # True or False: In Python you can declare a variable without specifying its data type.\n",
    "    # Return True or False\n",
    "    # YOUR CODE HERE\n",
    "    return True\n"
   ]
  },
  {
   "cell_type": "code",
   "execution_count": null,
   "metadata": {
    "deletable": false,
    "editable": false,
    "nbgrader": {
     "cell_type": "code",
     "checksum": "6a1d3df32caa64feb172750da7a4fe3d",
     "grade": true,
     "grade_id": "cell-7d785798f83aeb4d",
     "locked": true,
     "points": 2,
     "schema_version": 3,
     "solution": false,
     "task": false
    }
   },
   "outputs": [],
   "source": []
  },
  {
   "cell_type": "code",
   "execution_count": null,
   "metadata": {
    "deletable": false,
    "nbgrader": {
     "cell_type": "code",
     "checksum": "b94832cbfa7fab220c09bce1ecebbc5f",
     "grade": false,
     "grade_id": "cell-e584cdd471a2f76a",
     "locked": false,
     "schema_version": 3,
     "solution": true,
     "task": false
    }
   },
   "outputs": [],
   "source": [
    "# 2 points\n",
    "def exercise_19():\n",
    "\n",
    "    # True or False: In Python a variable that was used as a string can be reused as a float.\n",
    "    # Return True or False\n",
    "    # YOUR CODE HERE\n",
    "    return True\n"
   ]
  },
  {
   "cell_type": "code",
   "execution_count": null,
   "metadata": {
    "deletable": false,
    "editable": false,
    "nbgrader": {
     "cell_type": "code",
     "checksum": "998f8fd6bd432ceeafeb8e86d904c4d0",
     "grade": true,
     "grade_id": "cell-3b39aec3d0af4b59",
     "locked": true,
     "points": 2,
     "schema_version": 3,
     "solution": false,
     "task": false
    }
   },
   "outputs": [],
   "source": []
  },
  {
   "cell_type": "code",
   "execution_count": null,
   "metadata": {
    "deletable": false,
    "nbgrader": {
     "cell_type": "code",
     "checksum": "fd5b48f0d74236143616a80df891fa24",
     "grade": false,
     "grade_id": "cell-da3deb12139ffcd7",
     "locked": false,
     "schema_version": 3,
     "solution": true,
     "task": false
    }
   },
   "outputs": [],
   "source": [
    "# 2 points\n",
    "def exercise_20():\n",
    "\n",
    "    # Given a height and base of a triangle, calculate its area and return it\n",
    "\n",
    "    height = 3\n",
    "    base = 5\n",
    "    # YOUR CODE HERE\n",
    "    return (base*height)/2"
   ]
  },
  {
   "cell_type": "code",
   "execution_count": null,
   "metadata": {
    "deletable": false,
    "editable": false,
    "nbgrader": {
     "cell_type": "code",
     "checksum": "7c847088b15f427a1c81f1ba59b0bd08",
     "grade": true,
     "grade_id": "cell-82de4e6f10a07f59",
     "locked": true,
     "points": 2,
     "schema_version": 3,
     "solution": false,
     "task": false
    }
   },
   "outputs": [],
   "source": []
  }
 ],
 "metadata": {
  "kernelspec": {
   "display_name": "Python 3",
   "language": "python",
   "name": "python3"
  },
  "language_info": {
   "codemirror_mode": {
    "name": "ipython",
    "version": 3
   },
   "file_extension": ".py",
   "mimetype": "text/x-python",
   "name": "python",
   "nbconvert_exporter": "python",
   "pygments_lexer": "ipython3",
   "version": "3.6.9"
  }
 },
 "nbformat": 4,
 "nbformat_minor": 4
}
