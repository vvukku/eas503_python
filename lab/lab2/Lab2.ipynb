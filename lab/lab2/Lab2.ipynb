{
 "cells": [
  {
   "cell_type": "markdown",
   "metadata": {},
   "source": [
    "Before you turn this problem in, make sure everything runs as expected. First, **restart the kernel** (in the menubar, select Kernel$\\rightarrow$Restart) and then **run all cells** (in the menubar, select Cell$\\rightarrow$Run All).\n",
    "\n",
    "Make sure you fill in any place that says `YOUR CODE HERE` or \"YOUR ANSWER HERE\", as well as your name and collaborators below:"
   ]
  },
  {
   "cell_type": "code",
   "execution_count": null,
   "metadata": {},
   "outputs": [],
   "source": [
    "NAME = \"Vaishnavi Vukku\"\n",
    "COLLABORATORS = \"Professor Zia\""
   ]
  },
  {
   "cell_type": "markdown",
   "metadata": {},
   "source": [
    "---"
   ]
  },
  {
   "cell_type": "markdown",
   "metadata": {
    "deletable": false,
    "editable": false,
    "nbgrader": {
     "cell_type": "markdown",
     "checksum": "dc866d270ec6fe8e4c1e9658b13c6ae3",
     "grade": false,
     "grade_id": "cell-ae2cf18f5c0fc6b2",
     "locked": true,
     "schema_version": 3,
     "solution": false,
     "task": false
    }
   },
   "source": [
    "# Lab 2\n",
    "\n",
    "\n",
    "### Due Monday 12/14/2020 @ 11:59 PM EST (New York) \n",
    "\n",
    "\n",
    "\n",
    "\n",
    "### Objectives of Lab 2\n",
    "1. Parse a large 'messy' file\n",
    "1. Create a normalized database from a large 'messy' file\n",
    "1. Optimize code to load 600,000+ rows into a database quickly\n",
    "1. Practice SQL queries\n",
    "1. Create plots to visualize the data -- I have already done this for you!\n",
    "\n",
    "\n",
    "### Description of data\n",
    "Open `lab2_data.csv` file and understand its contents. The file consists\n",
    "of 11 columns separated by tab and each row is a customer with all of the products they have ordered. The columns are:\n",
    "1. Name -- The `Name` column is made up of the customer `FirstName` and `LastName` separated by a space \n",
    "1. Address -- The `Address` column has the customer address \n",
    "1. City -- The `City` column has the customer city \n",
    "1. Country -- The `Country` column has the customer country \n",
    "1. Region -- The `Region` column has the customer region \n",
    "1. ProductName* \n",
    "1. ProductCategory*\n",
    "1. ProductCategoryDescription*\n",
    "1. ProductUnitPrice*\n",
    "1. QuantityOrderded*\n",
    "1. OrderDate*\n",
    "\n",
    "All the `*` columns are linked, meaning if you split the columns on a semicolon and zip them up, you will get one product name, product category, product category description, product unit price, quantity ordered, and ordered date. Remember, each row/line in the data represents a customer and all their product orders. The product orders are separated by a semicolon. \n",
    "\n",
    "In this lab you will parse the data file and create a normalized database with six tables. To make this lab manageable, I will lay down the steps you need to create the following tables:\n",
    "```SQL\n",
    "Region \n",
    "  [RegionID] Integer not null primary key\n",
    "  [Region] Text not null\n",
    "Country\n",
    "  [CountryID] integer not null Primary key\n",
    "  [Country] Text not null\n",
    "Customer\n",
    "  [CustomerID] integer not null Primary Key\n",
    "  [FirstName] Text not null\n",
    "  [LastName] Text not null\n",
    "  [Address] Text not null\n",
    "  [City] Text not null\n",
    "  [CountryID] integer not null foreign key to Country table\n",
    "  [RegionID] integer not null foreign key to Region table\n",
    "ProductCateogry\n",
    "  [ProductCategoryID] integer not null Primary Key\n",
    "  [ProductCategory] Text not null\n",
    "  [ProductCategoryDescription] Text not null\n",
    "Product\n",
    "  [ProductID] integer not null Primary key\n",
    "  [ProductName] Text not null\n",
    "  [ProductUnitPrice] Real not null\n",
    "  [ProductCategoryID] integer not null foreign key to ProductCateogry table\n",
    "OrderDetail\n",
    "  [OrderID] integer not null Primary Key\n",
    "  [CustomerID] integer not null foreign key to Customer table\n",
    "  [ProductID] integer not null foreign key to Product table\n",
    "  [OrderDate] integer not null \n",
    "  [QuantityOrdered] integer not null\n",
    "```\n",
    "\n",
    "### Hints\n",
    "Note: The `create_table` function has been updated. Please study it and try to understand how it is different. You can now use it to drop a table before inserting into it. This is useful because you do not have to start from scratch. You can drop an individual table before recreating it if it exists. \n",
    "\n",
    "Also checkout out this link to understand how `executemany` works: https://www.kite.com/python/docs/sqlite3.Cursor.executemany and incorporate it into your insert_table functions. If you use `execute`, your insertions will be very slow. If you have only one value to insert, the values tuple will look like \n",
    "```python\n",
    "values = (('Graduate', ), ('Undergraduate',))\n",
    "```\n",
    "\n",
    "Always, always use the `with` context to insert. \n",
    "\n",
    "#### Note: There is one manually graded part of this lab which I will use to make sure you guys are using `executemany` and not `execute` to insert into the tables. "
   ]
  },
  {
   "cell_type": "code",
   "execution_count": 61,
   "metadata": {
    "deletable": false,
    "editable": false,
    "nbgrader": {
     "cell_type": "code",
     "checksum": "5e7be47391847cc0d03f392879154cec",
     "grade": false,
     "grade_id": "cell-3735739772045261",
     "locked": true,
     "schema_version": 3,
     "solution": false,
     "task": false
    }
   },
   "outputs": [],
   "source": [
    "### Utility Functions\n",
    "from IPython.display import display, HTML\n",
    "import pandas as pd\n",
    "import sqlite3\n",
    "from sqlite3 import Error\n",
    "\n",
    "def create_connection(db_file, delete_db=False):\n",
    "    import os\n",
    "    if delete_db and os.path.exists(db_file):\n",
    "        os.remove(db_file)\n",
    "\n",
    "    conn = None\n",
    "    try:\n",
    "        conn = sqlite3.connect(db_file)\n",
    "        conn.execute(\"PRAGMA foreign_keys = 1\")\n",
    "    except Error as e:\n",
    "        print(e)\n",
    "\n",
    "    return conn\n",
    "\n",
    "\n",
    "def create_table(conn, create_table_sql, drop_table_name=None):\n",
    "    \n",
    "    if drop_table_name: # You can optionally pass drop_table_name to drop the table. \n",
    "        try:\n",
    "            c = conn.cursor()\n",
    "            c.execute(\"\"\"DROP TABLE IF EXISTS %s\"\"\" % (drop_table_name))\n",
    "        except Error as e:\n",
    "            print(e)\n",
    "    \n",
    "    try:\n",
    "        c = conn.cursor()\n",
    "        c.execute(create_table_sql)\n",
    "    except Error as e:\n",
    "        print(e)\n",
    "        \n",
    "def execute_sql_statement(sql_statement, conn):\n",
    "    cur = conn.cursor()\n",
    "    cur.execute(sql_statement)\n",
    "\n",
    "    rows = cur.fetchall()\n",
    "\n",
    "    return rows\n"
   ]
  },
  {
   "cell_type": "code",
   "execution_count": 62,
   "metadata": {
    "deletable": false,
    "editable": false,
    "nbgrader": {
     "cell_type": "code",
     "checksum": "cd778b51dad0ee50b9e8d0eb74c2e26a",
     "grade": true,
     "grade_id": "cell-adf05840d1de37f4",
     "locked": true,
     "points": 0,
     "schema_version": 3,
     "solution": false,
     "task": false
    }
   },
   "outputs": [],
   "source": [
    "# Delete old database file\n",
    "\n",
    "normalized_database_filename = 'normalized.db'\n",
    "conn = create_connection(normalized_database_filename, delete_db=True)\n"
   ]
  },
  {
   "cell_type": "markdown",
   "metadata": {
    "deletable": false,
    "editable": false,
    "nbgrader": {
     "cell_type": "markdown",
     "checksum": "b35c364d3d98d8f40a38020fac58a479",
     "grade": false,
     "grade_id": "cell-0063d6359782bbdc",
     "locked": true,
     "schema_version": 3,
     "solution": false,
     "task": false
    }
   },
   "source": [
    "# Step 1 - Create the Region Table\n",
    "\n",
    "### Tasks\n",
    "\n",
    "1. Loop over the data and find the distinct regions\n",
    "1. Create the region table\n",
    "1. Populate the region table with the distinct regions. Make sure to sort the regions before inserting.  "
   ]
  },
  {
   "cell_type": "code",
   "execution_count": 63,
   "metadata": {
    "deletable": false,
    "nbgrader": {
     "cell_type": "code",
     "checksum": "103be8b9f6c5b968023da645a1ca0201",
     "grade": false,
     "grade_id": "cell-ac21dfd31890faee",
     "locked": false,
     "schema_version": 3,
     "solution": true,
     "task": false
    }
   },
   "outputs": [],
   "source": [
    "def step1_create_region_table(data_filename, normalized_database_filename):\n",
    "    # Inputs: Name of the data and normalized database filename\n",
    "    # Output: None\n",
    "\n",
    "    \n",
    "    # YOUR CODE HERE\n",
    "    conn = create_connection(normalized_database_filename)\n",
    "    cursor = conn.cursor()\n",
    "    \n",
    "    #Create Region Table\n",
    "    create_region_sql = 'CREATE TABLE Region (RegionID Integer not null primary key, Region Text not null);'\n",
    "    with conn:\n",
    "        create_table(conn,create_region_sql)\n",
    "    \n",
    "    #Insert data into table\n",
    "    input_df = pd.read_csv(data_filename, sep = '\\t')\n",
    "    region_lst = sorted(input_df['Region'].unique(), reverse=False)\n",
    "    region_lst = list(zip(region_lst))\n",
    "    cursor.executemany(\"INSERT INTO Region (Region) VALUES (?)\", region_lst)\n",
    "    conn.commit()\n",
    "    return None\n",
    "    "
   ]
  },
  {
   "cell_type": "code",
   "execution_count": 64,
   "metadata": {
    "deletable": false,
    "editable": false,
    "nbgrader": {
     "cell_type": "code",
     "checksum": "fdb4cc3df475d33cad1778b9dbbac4e7",
     "grade": true,
     "grade_id": "cell-a58c8f7320367143",
     "locked": true,
     "points": 5,
     "schema_version": 3,
     "solution": false,
     "task": false
    }
   },
   "outputs": [],
   "source": [
    "# 5 Points\n",
    "data_filename = 'lab2_data.csv'\n",
    "normalized_database_filename = 'normalized.db'\n",
    "step1_create_region_table(data_filename, normalized_database_filename)\n",
    "data = pd.read_csv(\"step1.csv\")\n",
    "conn = create_connection(normalized_database_filename)\n",
    "cur = conn.cursor()\n",
    "df = pd.read_sql_query(\"\"\"SELECT * FROM Region\"\"\", conn)\n",
    "assert df.equals(data) == True"
   ]
  },
  {
   "cell_type": "markdown",
   "metadata": {
    "deletable": false,
    "editable": false,
    "nbgrader": {
     "cell_type": "markdown",
     "checksum": "762d305baf7a02db21b8985c7208695b",
     "grade": false,
     "grade_id": "cell-873571e447820350",
     "locked": true,
     "schema_version": 3,
     "solution": false,
     "task": false
    }
   },
   "source": [
    "# Step 2 - Create the Country Table\n",
    "\n",
    "### Tasks\n",
    "\n",
    "1. Loop over the data and find the distinct countries\n",
    "1. Create the country table\n",
    "1. Populate the country table with the distinct countries. Make sure to sort the countries before inserting.  "
   ]
  },
  {
   "cell_type": "code",
   "execution_count": 65,
   "metadata": {
    "deletable": false,
    "nbgrader": {
     "cell_type": "code",
     "checksum": "7aee55f39e0b56ad9fcc4e4139cfda6c",
     "grade": false,
     "grade_id": "cell-03063871a161495b",
     "locked": false,
     "schema_version": 3,
     "solution": true,
     "task": false
    }
   },
   "outputs": [],
   "source": [
    "def step2_create_country_table(data_filename, normalized_database_filename):\n",
    "    # Inputs: Name of the data and normalized database filename\n",
    "    # Output: None\n",
    "    \n",
    "    # YOUR CODE HERE\n",
    "    conn = create_connection(normalized_database_filename)\n",
    "    cursor = conn.cursor()\n",
    "    \n",
    "    #Create Region Table\n",
    "    create_country_sql = 'CREATE TABLE Country (CountryID Integer not null primary key, Country Text not null);'\n",
    "    with conn:\n",
    "        create_table(conn,create_country_sql)\n",
    "    \n",
    "    #Insert data into table\n",
    "    input_df = pd.read_csv(data_filename, sep = '\\t')\n",
    "    country_lst = sorted(input_df['Country'].unique(), reverse=False)\n",
    "    country_tuple = zip(country_lst)\n",
    "    cursor.executemany(\"INSERT INTO Country (Country) VALUES (?)\", country_tuple)\n",
    "    conn.commit()\n",
    "    return None"
   ]
  },
  {
   "cell_type": "code",
   "execution_count": 66,
   "metadata": {
    "deletable": false,
    "editable": false,
    "nbgrader": {
     "cell_type": "code",
     "checksum": "0c88c83438457276a98d370fcaf9a496",
     "grade": true,
     "grade_id": "cell-35fa916465a32fee",
     "locked": true,
     "points": 5,
     "schema_version": 3,
     "solution": false,
     "task": false
    }
   },
   "outputs": [],
   "source": [
    "# 5 Points\n",
    "data_filename = 'lab2_data.csv'\n",
    "normalized_database_filename = 'normalized.db'\n",
    "step2_create_country_table(data_filename, normalized_database_filename)\n",
    "data = pd.read_csv(\"step2.csv\")\n",
    "conn = create_connection(normalized_database_filename)\n",
    "cur = conn.cursor()\n",
    "df = pd.read_sql_query(\"\"\"SELECT * FROM Country\"\"\", conn)\n",
    "assert df.equals(data) == True"
   ]
  },
  {
   "cell_type": "markdown",
   "metadata": {
    "deletable": false,
    "editable": false,
    "nbgrader": {
     "cell_type": "markdown",
     "checksum": "260230073a37bbdd884879ea259f2768",
     "grade": false,
     "grade_id": "cell-99e73b0ca4c9326f",
     "locked": true,
     "schema_version": 3,
     "solution": false,
     "task": false
    }
   },
   "source": [
    "# Step 3 - Create dictionary to map Region to RegionID\n",
    "\n",
    "The purpose of this step is to create a dictionary to look up the primary key lookup for a given region. \n",
    "\n",
    "Tasks\n",
    "1. Write an SQL query to fetch all the rows from the Region table\n",
    "1. Transform the row into a dictionary whose key is Region and value is RegionID\n",
    "\n"
   ]
  },
  {
   "cell_type": "code",
   "execution_count": 67,
   "metadata": {
    "deletable": false,
    "nbgrader": {
     "cell_type": "code",
     "checksum": "d540d7542e8fe1609e409c44e9cefdba",
     "grade": false,
     "grade_id": "cell-ef8d4afc4d8c7b1d",
     "locked": false,
     "schema_version": 3,
     "solution": true,
     "task": false
    }
   },
   "outputs": [],
   "source": [
    "def step3_create_region_to_regionid_dictionary(normalized_database_filename):\n",
    "\n",
    "    # YOUR CODE HERE\n",
    "    conn = create_connection(normalized_database_filename)\n",
    "    cursor = conn.cursor()\n",
    "    cursor.execute(\"\"\"SELECT Region, RegionID from Region\"\"\")\n",
    "    rows = cursor.fetchall()\n",
    "    region_dict = {ele[0]:int(ele[1]) for ele in rows}\n",
    "    return region_dict"
   ]
  },
  {
   "cell_type": "code",
   "execution_count": 68,
   "metadata": {
    "deletable": false,
    "editable": false,
    "nbgrader": {
     "cell_type": "code",
     "checksum": "41caba3b9e4d4091023ecc190079bb03",
     "grade": true,
     "grade_id": "cell-0e998f0f33ca5e4f",
     "locked": true,
     "points": 5,
     "schema_version": 3,
     "solution": false,
     "task": false
    }
   },
   "outputs": [],
   "source": [
    "# 5 Points\n",
    "normalized_database_filename = 'normalized.db'\n",
    "region_to_regionid_dict = step3_create_region_to_regionid_dictionary(normalized_database_filename)\n",
    "expected_solution = {\n",
    "    'British Isles': 1,\n",
    "    'Central America': 2,\n",
    "    'Eastern Europe': 3, \n",
    "    'North America': 4,\n",
    "    'Northern Europe': 5,\n",
    "    'Scandinavia': 6, \n",
    "    'South America': 7,\n",
    "    'Southern Europe': 8,\n",
    "    'Western Europe': 9\n",
    "}\n",
    "assert expected_solution == region_to_regionid_dict"
   ]
  },
  {
   "cell_type": "markdown",
   "metadata": {
    "deletable": false,
    "editable": false,
    "nbgrader": {
     "cell_type": "markdown",
     "checksum": "509666ce91b5017b757ed6ea4a10be16",
     "grade": false,
     "grade_id": "cell-c5ab2a32c05ac75c",
     "locked": true,
     "schema_version": 3,
     "solution": false,
     "task": false
    }
   },
   "source": [
    "# Step 4 - Create dictionary to map Country to CountryID\n",
    "\n",
    "The purpose of this step is to create a dictionary to look up the primary key lookup for a given country. \n",
    "\n",
    "\n",
    "Tasks\n",
    "1. Write an SQL query to fetch all the rows from the Country table\n",
    "1. Transform the row into a dictionary whose key is Country and value is CountryID"
   ]
  },
  {
   "cell_type": "code",
   "execution_count": 69,
   "metadata": {
    "deletable": false,
    "nbgrader": {
     "cell_type": "code",
     "checksum": "9bb870a7200246781ff8277038c9d191",
     "grade": false,
     "grade_id": "cell-698d198055989252",
     "locked": false,
     "schema_version": 3,
     "solution": true,
     "task": false
    }
   },
   "outputs": [],
   "source": [
    "def step4_create_country_to_countryid_dictionary(normalized_database_filename):\n",
    "    \n",
    "    \n",
    "    # YOUR CODE HERE\n",
    "    conn = create_connection(normalized_database_filename)\n",
    "    cursor = conn.cursor()\n",
    "    cursor.execute(\"\"\"SELECT Country, CountryID from Country\"\"\")\n",
    "    rows = cursor.fetchall()\n",
    "    country_dict = {ele[0]:int(ele[1]) for ele in rows}\n",
    "    return country_dict"
   ]
  },
  {
   "cell_type": "code",
   "execution_count": 70,
   "metadata": {
    "deletable": false,
    "editable": false,
    "nbgrader": {
     "cell_type": "code",
     "checksum": "57d9b613e0a172149112c9741be0a91e",
     "grade": true,
     "grade_id": "cell-feef162373ce30c7",
     "locked": true,
     "points": 5,
     "schema_version": 3,
     "solution": false,
     "task": false
    }
   },
   "outputs": [],
   "source": [
    "# 5 Points\n",
    "normalized_database_filename = 'normalized.db'\n",
    "country_to_countryid_dict = step4_create_country_to_countryid_dictionary(normalized_database_filename)\n",
    "expected_solution = {\n",
    "    'Argentina': 1, \n",
    "    'Austria': 2, \n",
    "    'Belgium': 3, \n",
    "    'Brazil': 4,\n",
    "    'Canada': 5, \n",
    "    'Denmark': 6, \n",
    "    'Finland': 7, \n",
    "    'France': 8, \n",
    "    'Germany': 9, \n",
    "    'Ireland': 10, \n",
    "    'Italy': 11, \n",
    "    'Mexico': 12, \n",
    "    'Norway': 13, \n",
    "    'Poland': 14, \n",
    "    'Portugal': 15,\n",
    "    'Spain': 16, \n",
    "    'Sweden': 17, \n",
    "    'Switzerland': 18,\n",
    "    'UK': 19, \n",
    "    'USA': 20, \n",
    "    'Venezuela': 21\n",
    "}\n",
    "assert expected_solution == country_to_countryid_dict"
   ]
  },
  {
   "cell_type": "markdown",
   "metadata": {
    "deletable": false,
    "editable": false,
    "nbgrader": {
     "cell_type": "markdown",
     "checksum": "7d8439f8fc60a86d862d56f15a94ef67",
     "grade": false,
     "grade_id": "cell-8c6a2fc726eb0641",
     "locked": true,
     "schema_version": 3,
     "solution": false,
     "task": false
    }
   },
   "source": [
    "# Step 5 - Create the customer table\n",
    "\n",
    "Note: You will be using `region_to_regionid_dict` and `country_to_countryid_dict` in this step when inserting into the customer table. Both should already be available inside the step5 function, so you can just use them. \n",
    "\n",
    "Tasks\n",
    "1. Loop over the data file and grab the name, address, city, country and region\n",
    "1. Create the customer table\n",
    "1. Populate the customer table\n",
    "\n",
    "### NOTE!\n",
    "- One of name when split on space results in three elements. In this case, the first name is the first element and the other two elements in the last name. \n",
    "- Insert the names sorted by first and lastname as one string. Hint: user lambda to combine first and last name and sort. "
   ]
  },
  {
   "cell_type": "code",
   "execution_count": 71,
   "metadata": {
    "deletable": false,
    "nbgrader": {
     "cell_type": "code",
     "checksum": "3bf8c00017e70d4d63a331a1c72f6cf9",
     "grade": false,
     "grade_id": "cell-032e547d9d6100da",
     "locked": false,
     "schema_version": 3,
     "solution": true,
     "task": false
    }
   },
   "outputs": [],
   "source": [
    "def step5_create_customer_table(data_filename, normalized_database_filename):\n",
    "\n",
    "    # YOUR CODE HERE\n",
    "    conn = create_connection(normalized_database_filename)\n",
    "    cursor = conn.cursor()\n",
    "    \n",
    "    #Create Region Table\n",
    "    create_customer_sql = 'CREATE TABLE Customer (CustomerID Integer not null primary key, FirstName Text not null, LastName Text not null, Address Text not null, City Text not null, CountryID Integer not null, RegionID Integer not null, FOREIGN KEY(CountryID) REFERENCES Country(CountryID) FOREIGN KEY(RegionID) REFERENCES Region(RegionID));'\n",
    "    with conn:\n",
    "        create_table(conn,create_customer_sql)\n",
    "    \n",
    "    #Insert data into table\n",
    "    input_df = pd.read_csv(data_filename, sep = '\\t')\n",
    "    customers = []\n",
    "    for row in input_df.itertuples():\n",
    "        FirstName, LastName = row[1].strip().split(' ', 1)\n",
    "        Address = row[2].strip()\n",
    "        City = row[3].strip()\n",
    "        Count_dict = step4_create_country_to_countryid_dictionary(normalized_database_filename)\n",
    "        CountryID = int(Count_dict.get(row[4].strip()))\n",
    "        reg_dict = step3_create_region_to_regionid_dictionary(normalized_database_filename)\n",
    "        RegionID = int(reg_dict.get(row[5].strip()))\n",
    "        tup_cust = (FirstName, LastName, Address, City, CountryID, RegionID)\n",
    "        customers.append(tup_cust)\n",
    "    cursor.executemany(\"INSERT INTO Customer (FirstName, LastName, Address, City, CountryID, RegionID) VALUES (?, ?, ?, ?, ?, ?)\", customers)\n",
    "    conn.commit()\n",
    "    return None  "
   ]
  },
  {
   "cell_type": "code",
   "execution_count": 72,
   "metadata": {
    "deletable": false,
    "editable": false,
    "nbgrader": {
     "cell_type": "code",
     "checksum": "4c02e910dad43d13f3cb706127a1f348",
     "grade": true,
     "grade_id": "cell-fd82245a8abdd38a",
     "locked": true,
     "points": 10,
     "schema_version": 3,
     "solution": false,
     "task": false
    }
   },
   "outputs": [],
   "source": [
    "# 10 Points\n",
    "normalized_database_filename = 'normalized.db'\n",
    "data_filename = 'lab2_data.csv'\n",
    "step5_create_customer_table(data_filename, normalized_database_filename)\n",
    "data = pd.read_csv(\"step5.csv\")\n",
    "conn = create_connection(normalized_database_filename)\n",
    "cur = conn.cursor()\n",
    "df = pd.read_sql_query(\"\"\"SELECT * FROM Customer\"\"\", conn)\n",
    "assert df.equals(data) == True"
   ]
  },
  {
   "cell_type": "markdown",
   "metadata": {
    "deletable": false,
    "editable": false,
    "nbgrader": {
     "cell_type": "markdown",
     "checksum": "d0ff33afd72bc782357bbc3dbbb51457",
     "grade": false,
     "grade_id": "cell-753c3ff7842269fb",
     "locked": true,
     "schema_version": 3,
     "solution": false,
     "task": false
    }
   },
   "source": [
    "# Step 6 - Create dictionary to map Name (FirstName LastName) to CustomerID\n",
    "\n",
    "The purpose of this step is to create a dictionary to look up the primary key lookup for a given name (FirstName LastName)\n",
    "\n",
    "Tasks\n",
    "1. Write an SQL query to fetch all the rows from the Customer table\n",
    "1. Transform the row into a dictionary whose key is the name of the customer (FirstName LastName) and value is CustomerID\n",
    "\n"
   ]
  },
  {
   "cell_type": "code",
   "execution_count": 73,
   "metadata": {
    "deletable": false,
    "nbgrader": {
     "cell_type": "code",
     "checksum": "47b1d6b0bf88ac6b038707db02722883",
     "grade": false,
     "grade_id": "cell-ce6a2a9c2cc2e5e3",
     "locked": false,
     "schema_version": 3,
     "solution": true,
     "task": false
    }
   },
   "outputs": [],
   "source": [
    "def step6_create_customer_to_customerid_dictionary(normalized_database_filename):\n",
    "    \n",
    "    \n",
    "    # YOUR CODE HERE\n",
    "    conn = create_connection(normalized_database_filename)\n",
    "    cursor = conn.cursor()\n",
    "    country_dict ={}\n",
    "    cursor.execute(\"\"\"SELECT * from Customer\"\"\")\n",
    "    rows = cursor.fetchall()\n",
    "    first_last = []\n",
    "    cust_id = []\n",
    "    for ele in rows:\n",
    "        tmp1 = ele[0]\n",
    "        tmp2 = ele[1].strip() + \" \" + ele[2].strip()\n",
    "        cust_id.append(int(tmp1))\n",
    "        first_last.append(tmp2.strip())\n",
    "    fin_tup = list(zip(first_last, cust_id))\n",
    "    cust_dict = dict(fin_tup)\n",
    "    return cust_dict"
   ]
  },
  {
   "cell_type": "code",
   "execution_count": 74,
   "metadata": {
    "deletable": false,
    "editable": false,
    "nbgrader": {
     "cell_type": "code",
     "checksum": "ffdaa351d473a1ac377819b45b0fe9ea",
     "grade": true,
     "grade_id": "cell-6ea2afa9c16a91c6",
     "locked": true,
     "points": 5,
     "schema_version": 3,
     "solution": false,
     "task": false
    }
   },
   "outputs": [],
   "source": [
    "# 5 Points\n",
    "normalized_database_filename = 'normalized.db'\n",
    "customer_to_customerid_dict = step6_create_customer_to_customerid_dictionary(normalized_database_filename)\n",
    "expected_solution = {\n",
    "     'Alejandra Camino': 1,\n",
    "     'Alexander Feuer': 2,\n",
    "     'Ana Trujillo': 3,\n",
    "     'Anabela Domingues': 4,\n",
    "     'André Fonseca': 5,\n",
    "     'Ann Devon': 6,\n",
    "     'Annette Roulet': 7,\n",
    "     'Antonio Moreno': 8,\n",
    "     'Aria Cruz': 9,\n",
    "     'Art Braunschweiger': 10,\n",
    "     'Bernardo Batista': 11,\n",
    "     'Carine Schmitt': 12,\n",
    "     'Carlos González': 13,\n",
    "     'Carlos Hernández': 14,\n",
    "     'Catherine Dewey': 15,\n",
    "     'Christina Berglund': 16,\n",
    "     'Daniel Tonini': 17,\n",
    "     'Diego Roel': 18,\n",
    "     'Dominique Perrier': 19,\n",
    "     'Eduardo Saavedra': 20,\n",
    "     'Elizabeth Brown': 21,\n",
    "     'Elizabeth Lincoln': 22,\n",
    "     'Felipe Izquierdo': 23,\n",
    "     'Fran Wilson': 24,\n",
    "     'Francisco Chang': 25,\n",
    "     'Frédérique Citeaux': 26,\n",
    "     'Georg Pipps': 27,\n",
    "     'Giovanni Rovelli': 28,\n",
    "     'Guillermo Fernández': 29,\n",
    "     'Hanna Moos': 30,\n",
    "     'Hari Kumar': 31,\n",
    "     'Helen Bennett': 32,\n",
    "     'Helvetius Nagy': 33,\n",
    "     'Henriette Pfalzheim': 34,\n",
    "     'Horst Kloss': 35,\n",
    "     'Howard Snyder': 36,\n",
    "     'Isabel de Castro': 37,\n",
    "     'Jaime Yorres': 38,\n",
    "     'Janete Limeira': 39,\n",
    "     'Janine Labrune': 40,\n",
    "     'Jean Fresnière': 41,\n",
    "     'John Steel': 42,\n",
    "     'Jonas Bergulfsen': 43,\n",
    "     'Jose Pavarotti': 44,\n",
    "     'José Pedro Freyre': 45,\n",
    "     'Jytte Petersen': 46,\n",
    "     'Karin Josephs': 47,\n",
    "     'Karl Jablonski': 48,\n",
    "     'Laurence Lebihan': 49,\n",
    "     'Lino Rodriguez': 50,\n",
    "     'Liu Wong': 51,\n",
    "     'Liz Nixon': 52,\n",
    "     'Lúcia Carvalho': 53,\n",
    "     'Manuel Pereira': 54,\n",
    "     'Maria Anders': 55,\n",
    "     'Maria Larsson': 56,\n",
    "     'Marie Bertrand': 57,\n",
    "     'Mario Pontes': 58,\n",
    "     'Martine Rancé': 59,\n",
    "     'Martín Sommer': 60,\n",
    "     'Mary Saveley': 61,\n",
    "     'Matti Karttunen': 62,\n",
    "     'Maurizio Moroni': 63,\n",
    "     'Michael Holz': 64,\n",
    "     'Miguel Angel Paolino': 65,\n",
    "     'Palle Ibsen': 66,\n",
    "     'Paolo Accorti': 67,\n",
    "     'Pascale Cartrain': 68,\n",
    "     'Patricia McKenna': 69,\n",
    "     'Patricio Simpson': 70,\n",
    "     'Paul Henriot': 71,\n",
    "     'Paula Parente': 72,\n",
    "     'Paula Wilson': 73,\n",
    "     'Pedro Afonso': 74,\n",
    "     'Peter Franken': 75,\n",
    "     'Philip Cramer': 76,\n",
    "     'Pirkko Koskitalo': 77,\n",
    "     'Renate Messner': 78,\n",
    "     'Rene Phillips': 79,\n",
    "     'Rita Müller': 80,\n",
    "     'Roland Mendel': 81,\n",
    "     'Sergio Gutiérrez': 82,\n",
    "     'Simon Crowther': 83,\n",
    "     'Sven Ottlieb': 84,\n",
    "     'Thomas Hardy': 85,\n",
    "     'Victoria Ashworth': 86,\n",
    "     'Yang Wang': 87,\n",
    "     'Yoshi Latimer': 88,\n",
    "     'Yoshi Tannamuri': 89,\n",
    "     'Yvonne Moncada': 90,\n",
    "     'Zbyszek Piestrzeniewicz': 91\n",
    "}\n",
    "\n",
    "assert expected_solution == customer_to_customerid_dict"
   ]
  },
  {
   "cell_type": "markdown",
   "metadata": {
    "deletable": false,
    "editable": false,
    "nbgrader": {
     "cell_type": "markdown",
     "checksum": "6b205001bdfd840481d98b2ff7fadeca",
     "grade": false,
     "grade_id": "cell-3c24af40aa10c6fb",
     "locked": true,
     "schema_version": 3,
     "solution": false,
     "task": false
    }
   },
   "source": [
    "# Step 7 - Create Product Category Table\n",
    "\n",
    "### Tasks\n",
    "\n",
    "1. Loop over the data and find the distinct product categories\n",
    "1. Create the product category table\n",
    "1. Populate the product category table with the distinct product categories. Make sure to sort the categories before inserting.  "
   ]
  },
  {
   "cell_type": "code",
   "execution_count": 75,
   "metadata": {
    "deletable": false,
    "nbgrader": {
     "cell_type": "code",
     "checksum": "8bb5ee5da389d8dcfce4790823dcbcaf",
     "grade": false,
     "grade_id": "cell-08bd41f3ee8e5b0f",
     "locked": false,
     "schema_version": 3,
     "solution": true,
     "task": false
    }
   },
   "outputs": [],
   "source": [
    "def step7_create_productcategory_table(data_filename, normalized_database_filename):\n",
    "    # Inputs: Name of the data and normalized database filename\n",
    "    # Output: None\n",
    "\n",
    "    # YOUR CODE HERE\n",
    "    conn = create_connection(normalized_database_filename)\n",
    "    cursor = conn.cursor()\n",
    "    \n",
    "    #Create ProductCategory Table\n",
    "    create_ProductCategory_sql = 'CREATE TABLE ProductCategory (ProductCategoryID Integer not null primary key, ProductCategory Text not null, ProductCategoryDescription Text not null);'\n",
    "    with conn:\n",
    "        create_table(conn,create_ProductCategory_sql)\n",
    "    \n",
    "    #Insert data into table\n",
    "    input_df = pd.read_csv(data_filename, sep = '\\t')\n",
    "    for row in input_df.itertuples():\n",
    "        cat_lst = list(row[7].strip().split(';'))\n",
    "        cat_des_lst = list(row[8].strip().split(';'))\n",
    "        unique_cat_lst = []\n",
    "        unique_cat_des_lst = []\n",
    "        for ele1, ele2 in zip(cat_lst, cat_des_lst):\n",
    "            if ele1 not in unique_cat_lst:\n",
    "                unique_cat_lst.append(ele1)\n",
    "            if ele2 not in unique_cat_des_lst:\n",
    "                unique_cat_des_lst.append(ele2)\n",
    "    \n",
    "    my_list = list(zip(unique_cat_lst, unique_cat_des_lst))\n",
    "    sorted_list = sorted(my_list)\n",
    "    cursor.executemany(\"INSERT INTO ProductCategory(ProductCategory,ProductCategoryDescription) VALUES(?,?)\", sorted_list)\n",
    "    conn.commit()\n",
    "    return None\n"
   ]
  },
  {
   "cell_type": "code",
   "execution_count": 76,
   "metadata": {
    "deletable": false,
    "editable": false,
    "nbgrader": {
     "cell_type": "code",
     "checksum": "96d0a857fc437795c2e1b74dc314dca0",
     "grade": true,
     "grade_id": "cell-1e1b759917d49004",
     "locked": true,
     "points": 5,
     "schema_version": 3,
     "solution": false,
     "task": false
    }
   },
   "outputs": [],
   "source": [
    "# 5 Points\n",
    "normalized_database_filename = 'normalized.db'\n",
    "data_filename = 'lab2_data.csv'\n",
    "step7_create_productcategory_table(data_filename, normalized_database_filename)\n",
    "data = pd.read_csv(\"step7.csv\")\n",
    "conn = create_connection(normalized_database_filename)\n",
    "cur = conn.cursor()\n",
    "df = pd.read_sql_query(\"\"\"SELECT * FROM ProductCategory\"\"\", conn)\n",
    "assert df.equals(data) == True"
   ]
  },
  {
   "cell_type": "markdown",
   "metadata": {
    "deletable": false,
    "editable": false,
    "nbgrader": {
     "cell_type": "markdown",
     "checksum": "e027591076c1d0ba8cfef1f54455eea2",
     "grade": false,
     "grade_id": "cell-fb02711b485a0b10",
     "locked": true,
     "schema_version": 3,
     "solution": false,
     "task": false
    }
   },
   "source": [
    "# Step 8 - Create dictionary to map productcategory to productcategoryid\n",
    "\n",
    "The purpose of this step is to create a dictionary to look up the primary key lookup for a given product category\n",
    "\n",
    "Tasks\n",
    "1. Write an SQL query to fetch all the rows from the product category table\n",
    "1. Transform the row into a dictionary whose key is the product category and value is product category id\n",
    "\n",
    "\n"
   ]
  },
  {
   "cell_type": "code",
   "execution_count": 77,
   "metadata": {
    "deletable": false,
    "nbgrader": {
     "cell_type": "code",
     "checksum": "2d051b337db67c731036b5a4fa5bff39",
     "grade": false,
     "grade_id": "cell-d6e481e4dc0947b6",
     "locked": false,
     "schema_version": 3,
     "solution": true,
     "task": false
    }
   },
   "outputs": [],
   "source": [
    "def step8_create_productcategory_to_productcategoryid_dictionary(normalized_database_filename):\n",
    "    \n",
    "    \n",
    "    # YOUR CODE HERE\n",
    "    conn = create_connection(normalized_database_filename)\n",
    "    cursor = conn.cursor()\n",
    "    country_dict ={}\n",
    "    cursor.execute(\"\"\"SELECT * from ProductCategory\"\"\")\n",
    "    rows = cursor.fetchall()\n",
    "    prod_cat =[]\n",
    "    prod_id = []\n",
    "    for ele in rows:\n",
    "        prod_id.append(int(ele[0]))\n",
    "        prod_cat.append(ele[1].strip())\n",
    "    fin_lst = list(zip(prod_cat, prod_id))\n",
    "    fin_dict = dict(fin_lst)\n",
    "    return fin_dict"
   ]
  },
  {
   "cell_type": "code",
   "execution_count": 78,
   "metadata": {
    "deletable": false,
    "editable": false,
    "nbgrader": {
     "cell_type": "code",
     "checksum": "de3ff6b992a7ce921ce88a08d8af0195",
     "grade": true,
     "grade_id": "cell-8bfcf4c0ca777fcb",
     "locked": true,
     "points": 5,
     "schema_version": 3,
     "solution": false,
     "task": false
    }
   },
   "outputs": [],
   "source": [
    "# 5 Points\n",
    "normalized_database_filename = 'normalized.db'\n",
    "productcategory_to_productcategoryid_dict = step8_create_productcategory_to_productcategoryid_dictionary(normalized_database_filename)\n",
    "expected_solution = {\n",
    "    'Beverages': 1,\n",
    "    'Condiments': 2,\n",
    "    'Confections': 3,\n",
    "    'Dairy Products': 4,\n",
    "    'Grains/Cereals': 5,\n",
    "    'Meat/Poultry': 6,\n",
    "    'Produce': 7,\n",
    "    'Seafood': 8\n",
    "}\n",
    "assert expected_solution == productcategory_to_productcategoryid_dict"
   ]
  },
  {
   "cell_type": "markdown",
   "metadata": {
    "deletable": false,
    "editable": false,
    "nbgrader": {
     "cell_type": "markdown",
     "checksum": "f2ce39f6b757dc3bd9b4abe2fc212256",
     "grade": false,
     "grade_id": "cell-f29d1a2b636e1362",
     "locked": true,
     "schema_version": 3,
     "solution": false,
     "task": false
    }
   },
   "source": [
    "# Step 9 - Create Product Table\n",
    "\n",
    "Note: You will be using `productcategory_to_productcategoryid_dict` in this step when inserting into the product table.\n",
    "\n",
    "### Tasks\n",
    "\n",
    "1. Loop over the data and find the distinct products\n",
    "1. Create the product table\n",
    "1. Populate the product table with the distinct products. Make sure to sort the products (by name) before inserting.  "
   ]
  },
  {
   "cell_type": "code",
   "execution_count": 79,
   "metadata": {
    "deletable": false,
    "nbgrader": {
     "cell_type": "code",
     "checksum": "e3f34e7aa0e2aa51db46bcb2d1a1b136",
     "grade": false,
     "grade_id": "cell-28caf5a23d2281ef",
     "locked": false,
     "schema_version": 3,
     "solution": true,
     "task": false
    }
   },
   "outputs": [],
   "source": [
    "def step9_create_product_table(data_filename, normalized_database_filename):\n",
    "    # Inputs: Name of the data and normalized database filename\n",
    "    # Output: None\n",
    "\n",
    "    \n",
    "    # YOUR CODE HERE\n",
    "    conn = create_connection(normalized_database_filename)\n",
    "    cursor = conn.cursor()\n",
    "    \n",
    "    #Create ProductCategory Table\n",
    "    create_Product_sql = 'CREATE TABLE Product (ProductID Integer not null primary key, ProductName Text not null, ProductUnitPrice Real not null, ProductCategoryID Integer not null, FOREIGN KEY(ProductCategoryID) REFERENCES ProductCategory(ProductCategoryID));'\n",
    "    with conn:\n",
    "        create_table(conn,create_Product_sql)\n",
    "    \n",
    "    #Insert data into table\n",
    "    input_df = pd.read_csv(data_filename, sep = '\\t')\n",
    "    for row in input_df.itertuples():\n",
    "        prd_lst = list(row[6].strip().split(';'))\n",
    "        prd_prc_lst = list(row[9].strip().split(';'))\n",
    "        prd_cat = list(row[7].strip().split(\";\"))\n",
    "        prd_cat_lst =[int(productcategory_to_productcategoryid_dict[ele]) for ele in prd_cat]\n",
    "        unique_lst = []\n",
    "        for ele1, ele2, ele3 in zip(prd_lst, prd_prc_lst, prd_cat_lst):\n",
    "            unique_lst.append((ele1.strip(), float(ele2), ele3))\n",
    "    \n",
    "    sorted_list = sorted(list(set([ele for ele in unique_lst])))\n",
    "    cursor.executemany(\"INSERT INTO Product(ProductName,ProductUnitPrice, ProductCategoryID) VALUES(?,?,?)\", sorted_list)\n",
    "    conn.commit()\n",
    "    return None\n",
    "        "
   ]
  },
  {
   "cell_type": "code",
   "execution_count": 80,
   "metadata": {
    "deletable": false,
    "editable": false,
    "nbgrader": {
     "cell_type": "code",
     "checksum": "09170a5b9c6fca0a36dc8bfaa65f364c",
     "grade": true,
     "grade_id": "cell-3443fde607418320",
     "locked": true,
     "points": 10,
     "schema_version": 3,
     "solution": false,
     "task": false
    }
   },
   "outputs": [],
   "source": [
    "# 10 Points\n",
    "normalized_database_filename = 'normalized.db'\n",
    "data_filename = 'lab2_data.csv'\n",
    "step9_create_product_table(data_filename, normalized_database_filename)\n",
    "data = pd.read_csv(\"step9.csv\")\n",
    "conn = create_connection(normalized_database_filename)\n",
    "cur = conn.cursor()\n",
    "df = pd.read_sql_query(\"\"\"SELECT * FROM Product\"\"\", conn)\n",
    "assert df.equals(data) == True\n"
   ]
  },
  {
   "cell_type": "markdown",
   "metadata": {
    "deletable": false,
    "editable": false,
    "nbgrader": {
     "cell_type": "markdown",
     "checksum": "90f39906dec1e17b45ebbfe7d4d59d1a",
     "grade": false,
     "grade_id": "cell-826804c074f5a023",
     "locked": true,
     "schema_version": 3,
     "solution": false,
     "task": false
    }
   },
   "source": [
    "# Step 10 - Create dictionary to map product to productid\n",
    "\n",
    "The purpose of this step is to create a dictionary to look up the primary key lookup for a given product \n",
    "\n",
    "Tasks\n",
    "1. Write an SQL query to fetch all the rows from the product table\n",
    "1. Transform the row into a dictionary whose key is the product and value is product id\n",
    "\n",
    "\n"
   ]
  },
  {
   "cell_type": "code",
   "execution_count": 81,
   "metadata": {
    "deletable": false,
    "nbgrader": {
     "cell_type": "code",
     "checksum": "75b0e2572645a31c28ab2bf007aff2a3",
     "grade": false,
     "grade_id": "cell-d1db4474fd3ab56f",
     "locked": false,
     "schema_version": 3,
     "solution": true,
     "task": false
    }
   },
   "outputs": [],
   "source": [
    "def step10_create_product_to_productid_dictionary(normalized_database_filename):\n",
    "    \n",
    "    \n",
    "    # YOUR CODE HERE\n",
    "    conn = create_connection(normalized_database_filename)\n",
    "    cursor = conn.cursor()\n",
    "    prd_dict ={}\n",
    "    cursor.execute(\"\"\"SELECT * from Product\"\"\")\n",
    "    rows = cursor.fetchall()\n",
    "    prod =[]\n",
    "    prod_id = []\n",
    "    for ele in rows:\n",
    "        prod_id.append(int(ele[0]))\n",
    "        prod.append(ele[1].strip())\n",
    "    fin_lst = list(zip(prod, prod_id))\n",
    "    fin_dict = dict(fin_lst)\n",
    "    return fin_dict\n",
    "        "
   ]
  },
  {
   "cell_type": "code",
   "execution_count": 82,
   "metadata": {
    "deletable": false,
    "editable": false,
    "nbgrader": {
     "cell_type": "code",
     "checksum": "9f34122d530a1193ac150c2fdd1fbca5",
     "grade": true,
     "grade_id": "cell-770f336ec19ab72a",
     "locked": true,
     "points": 5,
     "schema_version": 3,
     "solution": false,
     "task": false
    }
   },
   "outputs": [],
   "source": [
    "# 5 Points\n",
    "normalized_database_filename = 'normalized.db'\n",
    "product_to_productid_dict = step10_create_product_to_productid_dictionary(normalized_database_filename)\n",
    "expected_solution = {\n",
    "    'Alice Mutton': 1,\n",
    "    'Aniseed Syrup': 2,\n",
    "    'Boston Crab Meat': 3,\n",
    "    'Camembert Pierrot': 4,\n",
    "    'Carnarvon Tigers': 5,\n",
    "    'Chai': 6,\n",
    "    'Chang': 7,\n",
    "    'Chartreuse verte': 8,\n",
    "    \"Chef Anton's Cajun Seasoning\": 9,\n",
    "    \"Chef Anton's Gumbo Mix\": 10,\n",
    "    'Chocolade': 11,\n",
    "    'Côte de Blaye': 12,\n",
    "    'Escargots de Bourgogne': 13,\n",
    "    'Filo Mix': 14,\n",
    "    'Flotemysost': 15,\n",
    "    'Geitost': 16,\n",
    "    'Genen Shouyu': 17,\n",
    "    'Gnocchi di nonna Alice': 18,\n",
    "    'Gorgonzola Telino': 19,\n",
    "    \"Grandma's Boysenberry Spread\": 20,\n",
    "    'Gravad lax': 21,\n",
    "    'Guaraná Fantástica': 22,\n",
    "    'Gudbrandsdalsost': 23,\n",
    "    'Gula Malacca': 24,\n",
    "    'Gumbär Gummibärchen': 25,\n",
    "    \"Gustaf's Knäckebröd\": 26,\n",
    "    'Ikura': 27,\n",
    "    'Inlagd Sill': 28,\n",
    "    'Ipoh Coffee': 29,\n",
    "    \"Jack's New England Clam Chowder\": 30,\n",
    "    'Konbu': 31,\n",
    "    'Lakkalikööri': 32,\n",
    "    'Laughing Lumberjack Lager': 33,\n",
    "    'Longlife Tofu': 34,\n",
    "    'Louisiana Fiery Hot Pepper Sauce': 35,\n",
    "    'Louisiana Hot Spiced Okra': 36,\n",
    "    'Manjimup Dried Apples': 37,\n",
    "    'Mascarpone Fabioli': 38,\n",
    "    'Maxilaku': 39,\n",
    "    'Mishi Kobe Niku': 40,\n",
    "    'Mozzarella di Giovanni': 41,\n",
    "    'Nord-Ost Matjeshering': 42,\n",
    "    'Northwoods Cranberry Sauce': 43,\n",
    "    'NuNuCa Nuß-Nougat-Creme': 44,\n",
    "    'Original Frankfurter grüne Soße': 45,\n",
    "    'Outback Lager': 46,\n",
    "    'Pavlova': 47,\n",
    "    'Perth Pasties': 48,\n",
    "    'Pâté chinois': 49,\n",
    "    'Queso Cabrales': 50,\n",
    "    'Queso Manchego La Pastora': 51,\n",
    "    'Raclette Courdavault': 52,\n",
    "    'Ravioli Angelo': 53,\n",
    "    'Rhönbräu Klosterbier': 54,\n",
    "    'Rogede sild': 55,\n",
    "    'Röd Kaviar': 56,\n",
    "    'Rössle Sauerkraut': 57,\n",
    "    'Sasquatch Ale': 58,\n",
    "    'Schoggi Schokolade': 59,\n",
    "    'Scottish Longbreads': 60,\n",
    "    'Singaporean Hokkien Fried Mee': 61,\n",
    "    \"Sir Rodney's Marmalade\": 62,\n",
    "    \"Sir Rodney's Scones\": 63,\n",
    "    \"Sirop d'érable\": 64,\n",
    "    'Spegesild': 65,\n",
    "    'Steeleye Stout': 66,\n",
    "    'Tarte au sucre': 67,\n",
    "    'Teatime Chocolate Biscuits': 68,\n",
    "    'Thüringer Rostbratwurst': 69,\n",
    "    'Tofu': 70,\n",
    "    'Tourtière': 71,\n",
    "    'Tunnbröd': 72,\n",
    "    \"Uncle Bob's Organic Dried Pears\": 73,\n",
    "    'Valkoinen suklaa': 74,\n",
    "    'Vegie-spread': 75,\n",
    "    'Wimmers gute Semmelknödel': 76,\n",
    "    'Zaanse koeken': 77\n",
    "}\n",
    "assert expected_solution == product_to_productid_dict"
   ]
  },
  {
   "cell_type": "markdown",
   "metadata": {
    "deletable": false,
    "editable": false,
    "nbgrader": {
     "cell_type": "markdown",
     "checksum": "4d5c7878dc25f7ab74334e0ecc5a61bf",
     "grade": false,
     "grade_id": "cell-ea39763ce1ed5841",
     "locked": true,
     "schema_version": 3,
     "solution": false,
     "task": false
    }
   },
   "source": [
    "# Step 11 - Create OrderDetail Table\n",
    "\n",
    "Note: You will be using `product_to_productid_dict` and `customer_to_customerid_dict`\n",
    "in this step when inserting into the order detail table.\n",
    "\n",
    "### Tasks\n",
    "\n",
    "1. Loop over the data and figure out the orders\n",
    "1. Create the orderdetails table\n",
    "1. Populate the orderdetails table with the orders\n",
    "\n",
    "\n",
    "### Hint\n",
    "- convert orderdate and quantity ordered to int!\n",
    "\n"
   ]
  },
  {
   "cell_type": "code",
   "execution_count": 85,
   "metadata": {
    "deletable": false,
    "nbgrader": {
     "cell_type": "code",
     "checksum": "fbdc9836b26a35e4758e0273ff66aef5",
     "grade": false,
     "grade_id": "cell-1668eb465ac6e575",
     "locked": false,
     "schema_version": 3,
     "solution": true,
     "task": false
    }
   },
   "outputs": [],
   "source": [
    "def step11_create_orderdetail_table(data_filename, normalized_database_filename):\n",
    "    # Inputs: Name of the data and normalized database filename\n",
    "    # Output: None\n",
    "\n",
    "    \n",
    "    # YOUR CODE HERE\n",
    "    conn = create_connection(normalized_database_filename)\n",
    "    cursor = conn.cursor()\n",
    "    \n",
    "    #Create ProductCategory Table\n",
    "    create_Order_sql = 'CREATE TABLE OrderDetail (OrderID Integer not null primary key, CustomerID Integer not null, ProductID Integer not null, OrderDate Integer not null, QuantityOrdered integer not null);'\n",
    "    with conn:\n",
    "        create_table(conn,create_Order_sql, \"OrderDetail\")\n",
    "    \n",
    "    #Insert data into table\n",
    "    input_df = pd.read_csv(data_filename, sep = '\\t')\n",
    "    unique_lst = []\n",
    "    for row in input_df.itertuples():\n",
    "        quantity_order_lst = list(row[10].strip().split(';'))\n",
    "        order_date_lst = list(row[11].strip().split(';'))\n",
    "        prd_lst = list(row[6].strip().split(';'))\n",
    "        name_lst = list(row[1].strip().split(';')) * len(prd_lst)\n",
    "        mod_name_lst = [int(customer_to_customerid_dict[ele]) for ele in name_lst]     \n",
    "        mod_prd_lst = [int(product_to_productid_dict[ele]) for ele in prd_lst]\n",
    "        for ele1, ele2, ele3, ele4 in zip(mod_name_lst, mod_prd_lst, order_date_lst, quantity_order_lst):\n",
    "            unique_lst.append((int(ele1), int(ele2), int(ele3), int(ele4)))\n",
    "    cursor.executemany(\"INSERT INTO OrderDetail(CustomerID,ProductID, OrderDate, QuantityOrdered) VALUES(?,?,?,?)\", unique_lst)\n",
    "    conn.commit()\n",
    "    return None\n",
    "    "
   ]
  },
  {
   "cell_type": "code",
   "execution_count": 86,
   "metadata": {
    "deletable": false,
    "editable": false,
    "nbgrader": {
     "cell_type": "code",
     "checksum": "f7af762def6aa49ff0dce98d8a9df35e",
     "grade": true,
     "grade_id": "cell-954b55c537feebf4",
     "locked": true,
     "points": 20,
     "schema_version": 3,
     "solution": false,
     "task": false
    }
   },
   "outputs": [],
   "source": [
    "# 20 Points\n",
    "normalized_database_filename = 'normalized.db'\n",
    "data_filename = 'lab2_data.csv'\n",
    "step11_create_orderdetail_table(data_filename, normalized_database_filename)\n",
    "data = pd.read_csv(\"step11.csv\")\n",
    "conn = create_connection(normalized_database_filename)\n",
    "cur = conn.cursor()\n",
    "df = pd.read_sql_query(\"\"\"SELECT * FROM OrderDetail LIMIT 1000\"\"\", conn)\n",
    "assert df.equals(data) == True\n",
    "\n"
   ]
  },
  {
   "cell_type": "code",
   "execution_count": 87,
   "metadata": {
    "deletable": false,
    "editable": false,
    "nbgrader": {
     "cell_type": "code",
     "checksum": "aa7c7447f059e51154aedea27ffea6fa",
     "grade": true,
     "grade_id": "cell-7ae5ca80201ae802",
     "locked": true,
     "points": 20,
     "schema_version": 3,
     "solution": false,
     "task": false
    }
   },
   "outputs": [],
   "source": [
    "# 20 Points\n",
    "normalized_database_filename = 'normalized.db'\n",
    "conn = create_connection(normalized_database_filename)\n",
    "cur = conn.cursor()\n",
    "df = pd.read_sql_query(\"\"\"SELECT count(*) FROM OrderDetail\"\"\", conn)\n",
    "assert int(df.iloc[0]) == 621806\n"
   ]
  },
  {
   "cell_type": "code",
   "execution_count": 88,
   "metadata": {
    "deletable": false,
    "nbgrader": {
     "cell_type": "code",
     "checksum": "e96ecf28e68aefd36df682ed7903f0dc",
     "grade": false,
     "grade_id": "cell-e0c62596e90f00ed",
     "locked": false,
     "schema_version": 3,
     "solution": true,
     "task": false
    }
   },
   "outputs": [],
   "source": [
    "def ex1(conn, CustomerName):\n",
    "    \n",
    "    # Simply, you are fetching all the rows for a given CustomerName. \n",
    "    # Write an SQL statement that SELECTs From the OrderDetail table and joins with the Customer and Product table.\n",
    "    # Pull out the following columns. \n",
    "    # Name -- concatenation of FirstName and LastName\n",
    "    # ProductName\n",
    "    # OrderDate\n",
    "    # ProductUnitPrice\n",
    "    # QuantityOrdered\n",
    "    # Total -- which is calculated from multiplying ProductUnitPrice with QuantityOrdered -- round to two decimal places\n",
    "    # HINT: USE customer_to_customerid_dict to map customer name to customer id and then use where clause with CustomerID\n",
    "    \n",
    "    # YOUR CODE HERE\n",
    "    CustomerID=customer_to_customerid_dict[CustomerName]\n",
    "    sql_statement = 'SELECT FirstName||\" \" ||LastName as Name, ProductName, OrderDate, ProductUnitPrice, QuantityOrdered, round((Product.ProductUnitPrice * OrderDetail.QuantityOrdered),2) as Total from OrderDetail INNER JOIN Customer on Customer.CustomerID=OrderDetail.CustomerID INNER JOIN Product on OrderDetail.ProductID=Product.ProductID where Customer.CustomerID={};'.format(CustomerID)\n",
    "    df = pd.read_sql_query(sql_statement, conn)\n",
    "    return sql_statement\n"
   ]
  },
  {
   "cell_type": "code",
   "execution_count": 89,
   "metadata": {
    "deletable": false,
    "editable": false,
    "nbgrader": {
     "cell_type": "code",
     "checksum": "0f6c9db2a0ab6ca0770f6b5ffe68207a",
     "grade": true,
     "grade_id": "cell-ec9cf3d14b979157",
     "locked": true,
     "points": 5,
     "schema_version": 3,
     "solution": false,
     "task": false
    }
   },
   "outputs": [],
   "source": [
    "# 5 Points\n",
    "normalized_database_filename = 'normalized.db'\n",
    "conn = create_connection(normalized_database_filename)\n",
    "sql_statement = ex1(conn, 'Alejandra Camino')\n",
    "data = pd.read_csv(\"ex1_1.csv\")\n",
    "cur = conn.cursor()\n",
    "df = pd.read_sql_query(sql_statement, conn)\n",
    "assert df.equals(data) == True"
   ]
  },
  {
   "cell_type": "code",
   "execution_count": 90,
   "metadata": {
    "deletable": false,
    "editable": false,
    "nbgrader": {
     "cell_type": "code",
     "checksum": "d0c36cd71ff3aba211875964ffe1782d",
     "grade": true,
     "grade_id": "cell-597a6e93985e2aeb",
     "locked": true,
     "points": 5,
     "schema_version": 3,
     "solution": false,
     "task": false
    }
   },
   "outputs": [],
   "source": [
    "# 5 Points\n",
    "normalized_database_filename = 'normalized.db'\n",
    "conn = create_connection(normalized_database_filename)\n",
    "sql_statement = ex1(conn, 'Eduardo Saavedra')\n",
    "data = pd.read_csv(\"ex1_2.csv\")\n",
    "cur = conn.cursor()\n",
    "df = pd.read_sql_query(sql_statement, conn)\n",
    "assert df.equals(data) == True"
   ]
  },
  {
   "cell_type": "code",
   "execution_count": 91,
   "metadata": {
    "deletable": false,
    "nbgrader": {
     "cell_type": "code",
     "checksum": "5b825e15d274c753676af81fe45a522e",
     "grade": false,
     "grade_id": "cell-b6d96550bc8ec339",
     "locked": false,
     "schema_version": 3,
     "solution": true,
     "task": false
    }
   },
   "outputs": [],
   "source": [
    "def ex2(conn, CustomerName):\n",
    "    \n",
    "    # Simply, you are summing the total for a given CustomerName. \n",
    "    # Write an SQL statement that SELECTs From the OrderDetail table and joins with the Customer and Product table.\n",
    "    # Pull out the following columns. \n",
    "    # Name -- concatenation of FirstName and LastName\n",
    "    # Total -- which is calculated from multiplying ProductUnitPrice with QuantityOrdered -- sum first and then round to two decimal places\n",
    "    # HINT: USE customer_to_customerid_dict to map customer name to customer id and then use where clause with CustomerID\n",
    "    \n",
    "    # YOUR CODE HERE\n",
    "    CustomerID=customer_to_customerid_dict[CustomerName]\n",
    "    sql_statement='SELECT FirstName||\" \" ||LastName as Name,round(sum(Product.ProductUnitPrice * OrderDetail.QuantityOrdered),2) as Total from OrderDetail INNER JOIN Customer on Customer.CustomerID=OrderDetail.CustomerID INNER JOIN Product on OrderDetail.ProductID=Product.ProductID where Customer.CustomerID={} GROUP by name order by total desc;'.format(CustomerID) \n",
    "    df = pd.read_sql_query(sql_statement, conn)\n",
    "    return sql_statement"
   ]
  },
  {
   "cell_type": "code",
   "execution_count": 92,
   "metadata": {
    "deletable": false,
    "editable": false,
    "nbgrader": {
     "cell_type": "code",
     "checksum": "4ea134f5214f8ca174521202affd220d",
     "grade": true,
     "grade_id": "cell-54fdb84b73431dd0",
     "locked": true,
     "points": 5,
     "schema_version": 3,
     "solution": false,
     "task": false
    }
   },
   "outputs": [],
   "source": [
    "# 5 Points\n",
    "normalized_database_filename = 'normalized.db'\n",
    "conn = create_connection(normalized_database_filename)\n",
    "sql_statement = ex2(conn, 'Alejandra Camino')\n",
    "data = pd.read_csv(\"ex2_1.csv\")\n",
    "cur = conn.cursor()\n",
    "df = pd.read_sql_query(sql_statement, conn)\n",
    "assert df.equals(data) == True"
   ]
  },
  {
   "cell_type": "code",
   "execution_count": 93,
   "metadata": {
    "deletable": false,
    "editable": false,
    "nbgrader": {
     "cell_type": "code",
     "checksum": "27401cfc758471b37725bbd87b526448",
     "grade": true,
     "grade_id": "cell-02e468b7722bcf94",
     "locked": true,
     "points": 5,
     "schema_version": 3,
     "solution": false,
     "task": false
    }
   },
   "outputs": [],
   "source": [
    "# 5 Points\n",
    "normalized_database_filename = 'normalized.db'\n",
    "conn = create_connection(normalized_database_filename)\n",
    "sql_statement = ex2(conn, 'Eduardo Saavedra')\n",
    "data = pd.read_csv(\"ex2_2.csv\")\n",
    "cur = conn.cursor()\n",
    "df = pd.read_sql_query(sql_statement, conn)\n",
    "assert df.equals(data) == True"
   ]
  },
  {
   "cell_type": "code",
   "execution_count": 94,
   "metadata": {
    "deletable": false,
    "nbgrader": {
     "cell_type": "code",
     "checksum": "9d0c2cc36b2095292d7b348cdb638391",
     "grade": false,
     "grade_id": "cell-6868e040915abd2f",
     "locked": false,
     "schema_version": 3,
     "solution": true,
     "task": false
    }
   },
   "outputs": [],
   "source": [
    "def ex3(conn):\n",
    "    \n",
    "    # Simply, find the total for all the customers\n",
    "    # Write an SQL statement that SELECTs From the OrderDetail table and joins with the Customer and Product table.\n",
    "    # Pull out the following columns. \n",
    "    # Name -- concatenation of FirstName and LastName\n",
    "    # Total -- which is calculated from multiplying ProductUnitPrice with QuantityOrdered -- sum first and then round to two decimal places\n",
    "    # ORDER BY Total Descending \n",
    "    # YOUR CODE HERE\n",
    "    sql_statement='SELECT FirstName||\" \"||LastName as Name,round(sum(Product.ProductUnitPrice * OrderDetail.QuantityOrdered),2) as Total from OrderDetail INNER JOIN Customer on Customer.CustomerID=OrderDetail.CustomerID INNER JOIN Product on OrderDetail.ProductID=Product.ProductID GROUP BY Name ORDER BY total desc;'''\n",
    "    df = pd.read_sql_query(sql_statement, conn)\n",
    "    return sql_statement"
   ]
  },
  {
   "cell_type": "code",
   "execution_count": 95,
   "metadata": {
    "deletable": false,
    "editable": false,
    "nbgrader": {
     "cell_type": "code",
     "checksum": "4e842bd32bc6794c38933f9011c8e4e3",
     "grade": true,
     "grade_id": "cell-c088926530ebd106",
     "locked": true,
     "points": 5,
     "schema_version": 3,
     "solution": false,
     "task": false
    }
   },
   "outputs": [],
   "source": [
    "# 5 Points\n",
    "normalized_database_filename = 'normalized.db'\n",
    "conn = create_connection(normalized_database_filename)\n",
    "sql_statement = ex3(conn)\n",
    "data = pd.read_csv(\"ex3.csv\")\n",
    "cur = conn.cursor()\n",
    "df = pd.read_sql_query(sql_statement, conn)\n",
    "assert df.equals(data) == True"
   ]
  },
  {
   "cell_type": "code",
   "execution_count": 96,
   "metadata": {
    "deletable": false,
    "nbgrader": {
     "cell_type": "code",
     "checksum": "bb33a3f50d8f51db06b2ea78c6761b49",
     "grade": false,
     "grade_id": "cell-8cbed5eeeb2b66bf",
     "locked": false,
     "schema_version": 3,
     "solution": true,
     "task": false
    }
   },
   "outputs": [],
   "source": [
    "def ex4(conn):\n",
    "    \n",
    "    # Simply, find the total for all the region\n",
    "    # Write an SQL statement that SELECTs From the OrderDetail table and joins with the Customer, Product, and Region table.\n",
    "    # Pull out the following columns. \n",
    "    # Region\n",
    "    # Total -- which is calculated from multiplying ProductUnitPrice with QuantityOrdered -- sum first and then round to two decimal places\n",
    "    # ORDER BY Total Descending \n",
    "    # YOUR CODE HERE\n",
    "    sql_statement= 'SELECT Region, round(sum(Product.ProductUnitPrice * OrderDetail.QuantityOrdered),2) as Total from OrderDetail INNER JOIN Customer on Customer.CustomerID=OrderDetail.CustomerID INNER JOIN Product on OrderDetail.ProductID=Product.ProductID INNER JOIN Region on Customer.RegionID=Region.regionID GROUP BY Region ORDER BY total desc;'\n",
    "    df = pd.read_sql_query(sql_statement, conn)\n",
    "    return sql_statement"
   ]
  },
  {
   "cell_type": "code",
   "execution_count": 97,
   "metadata": {
    "deletable": false,
    "editable": false,
    "nbgrader": {
     "cell_type": "code",
     "checksum": "593d6829b6de30b6efb04177f50d5f7f",
     "grade": true,
     "grade_id": "cell-6c417c7bca62f7e9",
     "locked": true,
     "points": 5,
     "schema_version": 3,
     "solution": false,
     "task": false
    }
   },
   "outputs": [
    {
     "data": {
      "text/plain": [
       "<AxesSubplot:ylabel='Total'>"
      ]
     },
     "execution_count": 97,
     "metadata": {},
     "output_type": "execute_result"
    },
    {
     "data": {
      "image/png": "[encoded data removed]",
      "text/plain": [
       "<Figure size 432x288 with 1 Axes>"
      ]
     },
     "metadata": {},
     "output_type": "display_data"
    }
   ],
   "source": [
    "# 5 Points\n",
    "normalized_database_filename = 'normalized.db'\n",
    "conn = create_connection(normalized_database_filename)\n",
    "sql_statement = ex4(conn)\n",
    "data = pd.read_csv(\"ex4.csv\")\n",
    "cur = conn.cursor()\n",
    "df = pd.read_sql_query(sql_statement, conn)\n",
    "assert df.equals(data) == True\n",
    "\n",
    "df.set_index('Region', inplace=True)\n",
    "df.plot.pie(y='Total', legend=False)"
   ]
  },
  {
   "cell_type": "code",
   "execution_count": 99,
   "metadata": {
    "deletable": false,
    "nbgrader": {
     "cell_type": "code",
     "checksum": "38d0d90dd5c0f8c9f7c4e0ea3702a9c6",
     "grade": false,
     "grade_id": "cell-d223667d8732715d",
     "locked": false,
     "schema_version": 3,
     "solution": true,
     "task": false
    }
   },
   "outputs": [],
   "source": [
    "def ex5(conn):\n",
    "    \n",
    "    # Simply, find the total for all the countries\n",
    "    # Write an SQL statement that SELECTs From the OrderDetail table and joins with the Customer, Product, and Country table.\n",
    "    # Pull out the following columns. \n",
    "    # Country\n",
    "    # Total -- which is calculated from multiplying ProductUnitPrice with QuantityOrdered -- sum first and then round to two decimal places\n",
    "    # ORDER BY Total Descending \n",
    "    # YOUR CODE HERE\n",
    "    sql_statement = 'SELECT Country, round(sum(Product.ProductUnitPrice * OrderDetail.QuantityOrdered),2) as Total from OrderDetail INNER JOIN Customer on Customer.CustomerID=OrderDetail.CustomerID INNER join Product on OrderDetail.ProductID=Product.ProductID INNER JOIN Country on Country.CountryID=Customer.CountryID GROUP BY Country ORDER BY total desc;'\n",
    "    df = pd.read_sql_query(sql_statement, conn)\n",
    "    return sql_statement"
   ]
  },
  {
   "cell_type": "code",
   "execution_count": 100,
   "metadata": {
    "deletable": false,
    "editable": false,
    "nbgrader": {
     "cell_type": "code",
     "checksum": "e916d4c6119fe608302a5504461c30a5",
     "grade": true,
     "grade_id": "cell-bafad28b2bc9beea",
     "locked": true,
     "points": 5,
     "schema_version": 3,
     "solution": false,
     "task": false
    }
   },
   "outputs": [
    {
     "data": {
      "text/plain": [
       "<AxesSubplot:ylabel='Total'>"
      ]
     },
     "execution_count": 100,
     "metadata": {},
     "output_type": "execute_result"
    },
    {
     "data": {
      "image/png": "[encoded data removed]",
      "text/plain": [
       "<Figure size 432x288 with 1 Axes>"
      ]
     },
     "metadata": {},
     "output_type": "display_data"
    }
   ],
   "source": [
    "# 5 Points\n",
    "normalized_database_filename = 'normalized.db'\n",
    "conn = create_connection(normalized_database_filename)\n",
    "sql_statement = ex5(conn)\n",
    "data = pd.read_csv(\"ex5.csv\")\n",
    "cur = conn.cursor()\n",
    "df = pd.read_sql_query(sql_statement, conn)\n",
    "assert df.equals(data) == True\n",
    "\n",
    "df.set_index('Country', inplace=True)\n",
    "df.plot.pie(y='Total', legend=False)"
   ]
  },
  {
   "cell_type": "markdown",
   "metadata": {
    "deletable": false,
    "editable": false,
    "nbgrader": {
     "cell_type": "markdown",
     "checksum": "07d8271ef9f1899ab1e3b5194eb9dfc5",
     "grade": false,
     "grade_id": "cell-edbbdf1c75a41829",
     "locked": true,
     "points": 20,
     "schema_version": 3,
     "solution": false,
     "task": true
    }
   },
   "source": [
    "# 20 Points\n",
    "# Did the student use executemany for all the insertions?"
   ]
  }
 ],
 "metadata": {
  "kernelspec": {
   "display_name": "Python 3",
   "language": "python",
   "name": "python3"
  },
  "language_info": {
   "codemirror_mode": {
    "name": "ipython",
    "version": 3
   },
   "file_extension": ".py",
   "mimetype": "text/x-python",
   "name": "python",
   "nbconvert_exporter": "python",
   "pygments_lexer": "ipython3",
   "version": "3.6.9"
  }
 },
 "nbformat": 4,
 "nbformat_minor": 4
}
